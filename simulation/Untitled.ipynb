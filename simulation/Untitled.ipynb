{
 "cells": [
  {
   "cell_type": "code",
   "execution_count": 1,
   "metadata": {
    "collapsed": false
   },
   "outputs": [],
   "source": [
    "# Author: Thiago Akio Nakamura\n",
    "# E-mail: akionakas@gmail.com\n",
    "\n",
    "# Import necessary classes and libraries\n",
    "%matplotlib inline\n",
    "import numpy as np\n",
    "import matplotlib.pyplot as plt\n",
    "import time\n",
    "import matplotlib as mpl\n",
    "import pickle\n",
    "from fdd import OperationMode\n",
    "from fdd import FDD\n",
    "\n",
    "import scipy.io\n",
    "from scipy import linalg\n",
    "from sklearn.datasets import make_blobs\n",
    "from sklearn.mixture import PGMM\n",
    "from scipy.stats import randint as sp_randint\n",
    "\n",
    "from sklearn.naive_bayes import GaussianNB\n",
    "from sklearn.metrics import brier_score_loss\n",
    "from sklearn.calibration import CalibratedClassifierCV\n",
    "from sklearn.cross_validation import train_test_split\n",
    "from matplotlib.colors import LogNorm\n",
    "from sklearn.grid_search import GridSearchCV\n",
    "from time import time"
   ]
  },
  {
   "cell_type": "code",
   "execution_count": 2,
   "metadata": {
    "collapsed": false
   },
   "outputs": [
    {
     "data": {
      "text/plain": [
       "(721, 22)"
      ]
     },
     "execution_count": 2,
     "metadata": {},
     "output_type": "execute_result"
    }
   ],
   "source": [
    "# Load Tennessee Eastman Process Data\n",
    "original_data = pickle.load( open( \"data/tep_data.dat\", \"rb\" ) )\n",
    "original_normal_data = original_data[\"Normal\"]\n",
    "original_normal_data.shape"
   ]
  },
  {
   "cell_type": "code",
   "execution_count": 3,
   "metadata": {
    "collapsed": true
   },
   "outputs": [],
   "source": [
    "def create_dynamic_data(data, delays):\n",
    "    final_data = data\n",
    "    for delay in delays:\n",
    "        b = np.roll(data, delay, axis=0)\n",
    "        final_data = np.hstack((final_data, b))\n",
    "    return final_data[np.max(delays):, :]"
   ]
  },
  {
   "cell_type": "code",
   "execution_count": 4,
   "metadata": {
    "collapsed": false
   },
   "outputs": [],
   "source": [
    "complete_data = original_data\n",
    "# delays = [1]\n",
    "# for key in original_data:\n",
    "#     complete_data[key] = create_dynamic_data(original_data[key], delays)\n",
    "x_normal = complete_data[\"Normal\"]"
   ]
  },
  {
   "cell_type": "code",
   "execution_count": 5,
   "metadata": {
    "collapsed": false
   },
   "outputs": [
    {
     "name": "stdout",
     "output_type": "stream",
     "text": [
      "There is no model registered, creating a normal one.\n"
     ]
    },
    {
     "data": {
      "text/plain": [
       "False"
      ]
     },
     "execution_count": 5,
     "metadata": {},
     "output_type": "execute_result"
    }
   ],
   "source": [
    "fdd = FDD(name='TEPFDD',\n",
    "          training_type='spark',\n",
    "          n_components=np.array([1, 2, 3, 4, 5, 6, 7, 8]),\n",
    "          n_pc=np.array([14]),\n",
    "          covar_types=np.array([7]),\n",
    "          n_jobs=16)\n",
    "fdd.fdd(x_normal)"
   ]
  },
  {
   "cell_type": "code",
   "execution_count": 6,
   "metadata": {
    "collapsed": false
   },
   "outputs": [
    {
     "name": "stdout",
     "output_type": "stream",
     "text": [
      "Normal operation condition detected.\n"
     ]
    },
    {
     "data": {
      "text/plain": [
       "False"
      ]
     },
     "execution_count": 6,
     "metadata": {},
     "output_type": "execute_result"
    }
   ],
   "source": [
    "fdd.fdd(x_normal)"
   ]
  },
  {
   "cell_type": "code",
   "execution_count": 7,
   "metadata": {
    "collapsed": false
   },
   "outputs": [
    {
     "name": "stdout",
     "output_type": "stream",
     "text": [
      "Out of normal operation condition detected.\n",
      "The best fitting model found was: Normal Condition\n",
      "True\n",
      "620\n",
      "PGMM(covariance_type='UUR', init_params='wmpn', min_covar=1e-07,\n",
      "   n_components=1, n_init=1, n_iter=100, n_pc=14, params='wmpn',\n",
      "   random_state=None, tol=1e-06, verbose=0)\n",
      "Unrecognized behaviour, training a new model.\n",
      "1.0\n"
     ]
    },
    {
     "data": {
      "text/plain": [
       "True"
      ]
     },
     "execution_count": 7,
     "metadata": {},
     "output_type": "execute_result"
    }
   ],
   "source": [
    "x_fault1 = complete_data[\"Fault1\"]\n",
    "fdd.fdd(x_fault1)"
   ]
  },
  {
   "cell_type": "code",
   "execution_count": 8,
   "metadata": {
    "collapsed": false
   },
   "outputs": [
    {
     "name": "stdout",
     "output_type": "stream",
     "text": [
      "Out of normal operation condition detected.\n",
      "The best fitting model found was: Fault1\n",
      "False\n",
      "6\n",
      "PGMM(covariance_type='UUR', init_params='wmpn', min_covar=1e-07,\n",
      "   n_components=6, n_init=1, n_iter=100, n_pc=14, params='wmpn',\n",
      "   random_state=None, tol=1e-06, verbose=0)\n"
     ]
    },
    {
     "data": {
      "text/plain": [
       "True"
      ]
     },
     "execution_count": 8,
     "metadata": {},
     "output_type": "execute_result"
    }
   ],
   "source": [
    "fdd.fdd(x_fault1)"
   ]
  },
  {
   "cell_type": "code",
   "execution_count": 9,
   "metadata": {
    "collapsed": false
   },
   "outputs": [
    {
     "data": {
      "text/plain": [
       "[<matplotlib.lines.Line2D at 0x11766fcd0>,\n",
       " <matplotlib.lines.Line2D at 0x11766ff50>,\n",
       " <matplotlib.lines.Line2D at 0x1176811d0>,\n",
       " <matplotlib.lines.Line2D at 0x117681390>,\n",
       " <matplotlib.lines.Line2D at 0x117681550>,\n",
       " <matplotlib.lines.Line2D at 0x117681710>,\n",
       " <matplotlib.lines.Line2D at 0x1176818d0>,\n",
       " <matplotlib.lines.Line2D at 0x1164bda50>,\n",
       " <matplotlib.lines.Line2D at 0x117681c50>,\n",
       " <matplotlib.lines.Line2D at 0x117681e10>,\n",
       " <matplotlib.lines.Line2D at 0x117681fd0>,\n",
       " <matplotlib.lines.Line2D at 0x11768a1d0>,\n",
       " <matplotlib.lines.Line2D at 0x11768a390>,\n",
       " <matplotlib.lines.Line2D at 0x11768a550>,\n",
       " <matplotlib.lines.Line2D at 0x117681a90>,\n",
       " <matplotlib.lines.Line2D at 0x11768a8d0>,\n",
       " <matplotlib.lines.Line2D at 0x11768aa90>,\n",
       " <matplotlib.lines.Line2D at 0x11768ac50>,\n",
       " <matplotlib.lines.Line2D at 0x11768ae10>,\n",
       " <matplotlib.lines.Line2D at 0x11768afd0>,\n",
       " <matplotlib.lines.Line2D at 0x1176921d0>,\n",
       " <matplotlib.lines.Line2D at 0x11768a710>]"
      ]
     },
     "execution_count": 9,
     "metadata": {},
     "output_type": "execute_result"
    },
    {
     "data": {
      "image/png": "[encoded data removed]",
      "text/plain": [
       "<matplotlib.figure.Figure at 0x1124a6e50>"
      ]
     },
     "metadata": {},
     "output_type": "display_data"
    }
   ],
   "source": [
    "x_fault = complete_data[\"Fault1\"]\n",
    "plt.plot(x_fault)"
   ]
  },
  {
   "cell_type": "code",
   "execution_count": 10,
   "metadata": {
    "collapsed": false
   },
   "outputs": [
    {
     "name": "stdout",
     "output_type": "stream",
     "text": [
      "Fault18\n",
      "Fault19\n",
      "Normal\n",
      "Fault10\n",
      "Fault12\n",
      "Fault13\n",
      "Fault14\n",
      "Fault17\n",
      "Fault2\n",
      "Fault1\n",
      "Fault20\n",
      "Fault8\n"
     ]
    }
   ],
   "source": [
    "for key in complete_data:\n",
    "    print key"
   ]
  },
  {
   "cell_type": "code",
   "execution_count": null,
   "metadata": {
    "collapsed": true
   },
   "outputs": [],
   "source": []
  }
 ],
 "metadata": {
  "kernelspec": {
   "display_name": "Python 2",
   "language": "python",
   "name": "python2"
  },
  "language_info": {
   "codemirror_mode": {
    "name": "ipython",
    "version": 2
   },
   "file_extension": ".py",
   "mimetype": "text/x-python",
   "name": "python",
   "nbconvert_exporter": "python",
   "pygments_lexer": "ipython2",
   "version": "2.7.10"
  }
 },
 "nbformat": 4,
 "nbformat_minor": 0
}
