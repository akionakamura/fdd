{
 "cells": [
  {
   "cell_type": "code",
   "execution_count": 1,
   "metadata": {
    "collapsed": false
   },
   "outputs": [],
   "source": [
    "# Author: Thiago Akio Nakamura\n",
    "# E-mail: akionakas@gmail.com\n",
    "\n",
    "# Import necessary classes and libraries\n",
    "%matplotlib inline\n",
    "import numpy as np\n",
    "import matplotlib.pyplot as plt\n",
    "import time\n",
    "import matplotlib as mpl\n",
    "import pickle\n",
    "from fdd import OperationMode\n",
    "from fdd import FDD\n",
    "\n",
    "import scipy.io\n",
    "from scipy import linalg\n",
    "from sklearn.datasets import make_blobs\n",
    "from sklearn.mixture import PGMM\n",
    "from scipy.stats import randint as sp_randint\n",
    "\n",
    "from sklearn.naive_bayes import GaussianNB\n",
    "from sklearn.metrics import brier_score_loss\n",
    "from sklearn.calibration import CalibratedClassifierCV\n",
    "from sklearn.cross_validation import train_test_split\n",
    "from matplotlib.colors import LogNorm\n",
    "from sklearn.grid_search import GridSearchCV\n",
    "from time import time"
   ]
  },
  {
   "cell_type": "code",
   "execution_count": 2,
   "metadata": {
    "collapsed": false
   },
   "outputs": [
    {
     "data": {
      "text/plain": [
       "(721, 22)"
      ]
     },
     "execution_count": 2,
     "metadata": {},
     "output_type": "execute_result"
    }
   ],
   "source": [
    "# Load Tennessee Eastman Process Data\n",
    "original_data = pickle.load( open( \"data/tep_data.dat\", \"rb\" ) )\n",
    "original_normal_data = original_data[\"Normal\"]\n",
    "original_normal_data.shape"
   ]
  },
  {
   "cell_type": "code",
   "execution_count": 3,
   "metadata": {
    "collapsed": true
   },
   "outputs": [],
   "source": [
    "def create_dynamic_data(data, delays):\n",
    "    final_data = data\n",
    "    for delay in delays:\n",
    "        b = np.roll(data, delay, axis=0)\n",
    "        final_data = np.hstack((final_data, b))\n",
    "    return final_data[np.max(delays):, :]"
   ]
  },
  {
   "cell_type": "code",
   "execution_count": 4,
   "metadata": {
    "collapsed": false
   },
   "outputs": [],
   "source": [
    "complete_data = {}\n",
    "delays = [5, 10]\n",
    "for key in original_data:\n",
    "    complete_data[key] = create_dynamic_data(original_data[key], delays)\n",
    "x_normal = complete_data[\"Normal\"]"
   ]
  },
  {
   "cell_type": "code",
   "execution_count": 5,
   "metadata": {
    "collapsed": false
   },
   "outputs": [
    {
     "name": "stdout",
     "output_type": "stream",
     "text": [
      "There is no model registered, creating a normal one.\n"
     ]
    },
    {
     "data": {
      "text/plain": [
       "False"
      ]
     },
     "execution_count": 5,
     "metadata": {},
     "output_type": "execute_result"
    }
   ],
   "source": [
    "fdd = FDD(name='TEPFDD',\n",
    "          training_type='spark',\n",
    "          n_components=np.array([1, 2, 3, 4, 5]),\n",
    "          n_pc=np.array([10, 20, 30, 40, 50]),\n",
    "          covar_types=np.array([7, 8]),\n",
    "          n_jobs=16)\n",
    "fdd.fdd(x_normal)"
   ]
  },
  {
   "cell_type": "code",
   "execution_count": 6,
   "metadata": {
    "collapsed": false
   },
   "outputs": [
    {
     "name": "stdout",
     "output_type": "stream",
     "text": [
      "Normal operation condition detected.\n"
     ]
    },
    {
     "data": {
      "text/plain": [
       "False"
      ]
     },
     "execution_count": 6,
     "metadata": {},
     "output_type": "execute_result"
    }
   ],
   "source": [
    "fdd.fdd(x_normal)"
   ]
  },
  {
   "cell_type": "code",
   "execution_count": 7,
   "metadata": {
    "collapsed": false
   },
   "outputs": [
    {
     "name": "stdout",
     "output_type": "stream",
     "text": [
      "Out of normal operation condition detected.\n",
      "The best fitting model found was: Normal Condition\n",
      "True\n",
      "620\n",
      "PGMM(covariance_type='UUU', init_params='wmpn', min_covar=1e-07,\n",
      "   n_components=2, n_init=1, n_iter=100, n_pc=10, params='wmpn',\n",
      "   random_state=None, tol=0.001, verbose=0)\n",
      "Unrecognized behaviour, training a new model.\n",
      "1\n"
     ]
    },
    {
     "data": {
      "text/plain": [
       "True"
      ]
     },
     "execution_count": 7,
     "metadata": {},
     "output_type": "execute_result"
    }
   ],
   "source": [
    "x_fault1 = complete_data[\"Fault1\"]\n",
    "fdd.fdd(x_fault1)"
   ]
  },
  {
   "cell_type": "code",
   "execution_count": 8,
   "metadata": {
    "collapsed": false
   },
   "outputs": [
    {
     "name": "stdout",
     "output_type": "stream",
     "text": [
      "Out of normal operation condition detected.\n",
      "The best fitting model found was: Fault1\n",
      "True\n",
      "204\n",
      "PGMM(covariance_type='UUU', init_params='wmpn', min_covar=1e-07,\n",
      "   n_components=5, n_init=1, n_iter=100, n_pc=10, params='wmpn',\n",
      "   random_state=None, tol=0.001, verbose=0)\n",
      "Unrecognized behaviour, training a new model.\n",
      "0\n"
     ]
    },
    {
     "data": {
      "text/plain": [
       "True"
      ]
     },
     "execution_count": 8,
     "metadata": {},
     "output_type": "execute_result"
    }
   ],
   "source": [
    "x_fault1 = complete_data[\"Fault1\"]\n",
    "fdd.fdd(x_fault1)"
   ]
  },
  {
   "cell_type": "code",
   "execution_count": 9,
   "metadata": {
    "collapsed": false
   },
   "outputs": [],
   "source": [
    "# stats_normal, threshold, out, num_out, data_out = fdd.monitor(X_train)\n",
    "# plt.figure(figsize=(12, 5))\n",
    "# plt.plot(stats_normal)\n",
    "# plt.plot((0, len(stats_normal)-1), (threshold, threshold), color = 'red')\n",
    "# plt.show()"
   ]
  }
 ],
 "metadata": {
  "kernelspec": {
   "display_name": "Python 2",
   "language": "python",
   "name": "python2"
  },
  "language_info": {
   "codemirror_mode": {
    "name": "ipython",
    "version": 2
   },
   "file_extension": ".py",
   "mimetype": "text/x-python",
   "name": "python",
   "nbconvert_exporter": "python",
   "pygments_lexer": "ipython2",
   "version": "2.7.10"
  }
 },
 "nbformat": 4,
 "nbformat_minor": 0
}
