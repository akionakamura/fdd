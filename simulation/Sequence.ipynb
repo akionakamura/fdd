{
 "cells": [
  {
   "cell_type": "code",
   "execution_count": 1,
   "metadata": {
    "collapsed": false
   },
   "outputs": [],
   "source": [
    "# Author: Thiago Akio Nakamura\n",
    "# E-mail: akionakas@gmail.com\n",
    "\n",
    "# Import necessary classes and libraries\n",
    "%matplotlib inline\n",
    "import numpy as np\n",
    "import matplotlib.pyplot as plt\n",
    "import time\n",
    "import matplotlib as mpl\n",
    "import pickle\n",
    "from fdd import OperationMode\n",
    "from fdd import FDD\n",
    "\n",
    "import scipy.io\n",
    "from scipy import linalg\n",
    "from sklearn.datasets import make_blobs\n",
    "from sklearn.mixture import PGMM\n",
    "from scipy.stats import randint as sp_randint\n",
    "\n",
    "from sklearn.naive_bayes import GaussianNB\n",
    "from sklearn.metrics import brier_score_loss\n",
    "from sklearn.calibration import CalibratedClassifierCV\n",
    "from sklearn.cross_validation import train_test_split\n",
    "from matplotlib.colors import LogNorm\n",
    "from sklearn.grid_search import GridSearchCV\n",
    "from time import time"
   ]
  },
  {
   "cell_type": "code",
   "execution_count": null,
   "metadata": {
    "collapsed": false
   },
   "outputs": [],
   "source": [
    "# Load Tennessee Eastman Process Data\n",
    "original_data = pickle.load( open( \"data/tep_data_sequence.dat\", \"rb\" ) )\n",
    "original_normal_data = original_data[\"Normal\"]"
   ]
  },
  {
   "cell_type": "code",
   "execution_count": null,
   "metadata": {
    "collapsed": false,
    "scrolled": true
   },
   "outputs": [
    {
     "name": "stdout",
     "output_type": "stream",
     "text": [
      "---------------\n",
      "Applying data Windows of type: Normal\n",
      "There is no model registered, creating a normal one.\n",
      "---------------\n",
      "---------------\n",
      "Applying data Windows of type: Fault13_1\n",
      "Out of normal operation condition detected.\n",
      "Unrecognized behaviour, training a new model.\n",
      "639\n",
      "---------------\n",
      "---------------\n",
      "Applying data Windows of type: Fault14_1\n",
      "Out of normal operation condition detected.\n",
      "Unrecognized behaviour, training a new model.\n",
      "488\n",
      "---------------\n",
      "---------------\n",
      "Applying data Windows of type: Fault13_2\n",
      "Out of normal operation condition detected.\n",
      "Operation mode classified as: Fault13_1\n",
      "---------------\n",
      "---------------\n",
      "Applying data Windows of type: Fault11_1\n",
      "Out of normal operation condition detected.\n",
      "Unrecognized behaviour, training a new model.\n",
      "381\n",
      "---------------\n",
      "---------------\n",
      "Applying data Windows of type: Fault11_1\n",
      "Out of normal operation condition detected.\n",
      "Operation mode classified as: Fault11_1\n",
      "---------------\n",
      "---------------\n",
      "Applying data Windows of type: Fault14_2\n",
      "Out of normal operation condition detected.\n",
      "Operation mode classified as: Fault14_1\n",
      "---------------\n"
     ]
    }
   ],
   "source": [
    "sequence = [\"Normal\",\n",
    "            \"Fault13_1\", \n",
    "            \"Fault14_1\", \n",
    "            \"Fault13_2\",\n",
    "            \"Fault11_1\",\n",
    "            \"Fault11_1\",  \n",
    "            \"Fault14_2\"]\n",
    "\n",
    "fault_number = {\n",
    "    \"Normal\": 0,\n",
    "    \"Fault2_1\": 2,\n",
    "    \"Fault2_2\": 2,\n",
    "    \"Fault11_1\": 11,\n",
    "    \"Fault11_2\": 11,\n",
    "    \"Fault13_1\": 13,\n",
    "    \"Fault13_2\": 13,\n",
    "    \"Fault14_1\": 14,\n",
    "    \"Fault14_2\": 14,\n",
    "    \"Fault20_1\": 20,\n",
    "    \"Fault20_2\": 20\n",
    "}\n",
    "\n",
    "fdd = FDD(name='TEPFDD',\n",
    "          training_type='spark',\n",
    "          n_components=np.array([1, 2, 3, 4, 5, 6, 7, 8, 9, 10, 11, 12]),\n",
    "          n_pc=np.array([1, 2, 3, 4, 5, 6, 7, 8, 9, 10, 11, 12, 13, 14, 15, 16, 17, 18]),\n",
    "          covar_types=np.array([1, 2, 3, 4, 5, 6, 7, 8]),\n",
    "          n_jobs=64)\n",
    "complete_stats = np.empty(0)\n",
    "fault_sequence = np.empty(0)\n",
    "detection_sequence = np.empty(0)\n",
    "training_data_sequence = np.empty(0)\n",
    "detection_point_sequence = np.empty(0)\n",
    "for key in sequence:\n",
    "    print '---------------'\n",
    "    print 'Applying data Windows of type: {}'.format(key)\n",
    "    x_windows = original_data[key]\n",
    "    normal_stats, normal_thr, best_status, best_thr, best_id, is_new = fdd.fdd(x_windows)\n",
    "    if is_new:\n",
    "        fdd.set_op_name(best_id, key)\n",
    "        fdd.set_op_kind(best_id, key[0])\n",
    "        fdd.set_op_status(best_id, 'OK')\n",
    "        \n",
    "    # Stats\n",
    "    complete_stats = np.concatenate((complete_stats, normal_stats), axis=0)\n",
    "    \n",
    "    # Fault Sequence\n",
    "    this_sequence = np.zeros(len(x_windows))\n",
    "    this_sequence[251:751] = fault_number[key]\n",
    "    fault_sequence = np.concatenate((fault_sequence, this_sequence), axis=0)\n",
    "    \n",
    "    # Detection Sequence\n",
    "    this_detection = np.zeros(len(x_windows))\n",
    "    this_training = np.zeros(len(x_windows))\n",
    "    detection_point = np.zeros(len(x_windows))\n",
    "    if is_new:\n",
    "        this_training[normal_stats > normal_thr] = fault_number[fdd.models[best_id].name]\n",
    "    else:\n",
    "        this_detection[normal_stats > normal_thr] = fault_number[fdd.models[best_id].name]\n",
    "    \n",
    "    if len(normal_stats) > 0:\n",
    "        detection_point[np.where(np.logical_and(normal_stats > normal_thr, np.array([range(len(normal_stats))]) > 250 )[0])[0][0]] = fault_number[fdd.models[best_id].name]\n",
    "    \n",
    "    detection_sequence = np.concatenate((detection_sequence, this_detection), axis=0)\n",
    "    training_data_sequence = np.concatenate((training_data_sequence, this_training), axis=0)\n",
    "    complete_stats = np.concatenate((complete_stats, normal_stats), axis=0)\n",
    "    detection_point_sequence = np.concatenate((detection_point_sequence, detection_point), axis=0)\n",
    "    print '---------------'"
   ]
  },
  {
   "cell_type": "code",
   "execution_count": null,
   "metadata": {
    "collapsed": false
   },
   "outputs": [
    {
     "data": {
      "text/plain": [
       "[1, 6727, 0, 22]"
      ]
     },
     "execution_count": 4,
     "metadata": {},
     "output_type": "execute_result"
    },
    {
     "data": {
      "image/png": "[encoded data removed]",
      "text/plain": [
       "<matplotlib.figure.Figure at 0x108c60410>"
      ]
     },
     "metadata": {},
     "output_type": "display_data"
    }
   ],
   "source": [
    "plt.figure(figsize=(7, 5))\n",
    "plt.plot(fault_sequence)\n",
    "plt.xlabel('Amostra')\n",
    "plt.ylabel('ID da Falha')\n",
    "plt.grid()\n",
    "plt.title('Sequencia Simulada')\n",
    "plt.axis([1, len(fault_sequence), 0, 22])"
   ]
  },
  {
   "cell_type": "code",
   "execution_count": null,
   "metadata": {
    "collapsed": false
   },
   "outputs": [
    {
     "data": {
      "text/plain": [
       "[1, 6727, 0, 22]"
      ]
     },
     "execution_count": 5,
     "metadata": {},
     "output_type": "execute_result"
    },
    {
     "data": {
      "image/png": "[encoded data removed]",
      "text/plain": [
       "<matplotlib.figure.Figure at 0x104181850>"
      ]
     },
     "metadata": {},
     "output_type": "display_data"
    }
   ],
   "source": [
    "plt.figure(figsize=(8, 6))\n",
    "t = np.array(range(len(fault_sequence)))\n",
    "plt.plot(t, fault_sequence, linestyle=\"dashed\")\n",
    "plt.plot(t, detection_sequence, color=\"red\")\n",
    "plt.plot(t[training_data_sequence>0], training_data_sequence[training_data_sequence>0], marker=\".\", linestyle=\"None\")\n",
    "plt.plot(t[detection_point_sequence>0], detection_point_sequence[detection_point_sequence>0], marker=\"D\", linestyle=\"None\", color=\"magenta\")\n",
    "plt.xlabel('Sample')\n",
    "plt.ylabel('Fault ID')\n",
    "plt.grid()\n",
    "plt.title('Simulated Sequence')\n",
    "plt.legend([\"Fault\", \"Diagnosed\", \"New Behaviour\", \"Detection Point\"], loc=\"upper left\")\n",
    "plt.axis([1, len(fault_sequence), 0, 22])"
   ]
  },
  {
   "cell_type": "code",
   "execution_count": null,
   "metadata": {
    "collapsed": false
   },
   "outputs": [],
   "source": [
    "# plt.figure(figsize=(7, 5))\n",
    "# plt.plot(complete_data)\n",
    "# plt.xlabel('Amostra')\n",
    "# plt.ylabel('Valor Normalizado')\n",
    "# plt.grid()\n",
    "# plt.title('Grafico com Todas as Variaveis')\n",
    "# plt.axis([1, len(complete_data), -250, 100])"
   ]
  },
  {
   "cell_type": "code",
   "execution_count": null,
   "metadata": {
    "collapsed": true
   },
   "outputs": [],
   "source": []
  }
 ],
 "metadata": {
  "kernelspec": {
   "display_name": "Python 2",
   "language": "python",
   "name": "python2"
  },
  "language_info": {
   "codemirror_mode": {
    "name": "ipython",
    "version": 2
   },
   "file_extension": ".py",
   "mimetype": "text/x-python",
   "name": "python",
   "nbconvert_exporter": "python",
   "pygments_lexer": "ipython2",
   "version": "2.7.10"
  }
 },
 "nbformat": 4,
 "nbformat_minor": 0
}
