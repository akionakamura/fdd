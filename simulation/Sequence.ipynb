{
 "cells": [
  {
   "cell_type": "code",
   "execution_count": 24,
   "metadata": {
    "collapsed": true
   },
   "outputs": [],
   "source": [
    "# Author: Thiago Akio Nakamura\n",
    "# E-mail: akionakas@gmail.com\n",
    "\n",
    "# Import necessary classes and libraries\n",
    "%matplotlib inline\n",
    "import numpy as np\n",
    "import matplotlib.pyplot as plt\n",
    "import time\n",
    "import matplotlib as mpl\n",
    "import pickle\n",
    "from fdd import OperationMode\n",
    "from fdd import FDD\n",
    "\n",
    "import scipy.io\n",
    "from scipy import linalg\n",
    "from sklearn.datasets import make_blobs\n",
    "from sklearn.mixture import PGMM\n",
    "from scipy.stats import randint as sp_randint\n",
    "\n",
    "from sklearn.naive_bayes import GaussianNB\n",
    "from sklearn.metrics import brier_score_loss\n",
    "from sklearn.calibration import CalibratedClassifierCV\n",
    "from sklearn.cross_validation import train_test_split\n",
    "from matplotlib.colors import LogNorm\n",
    "from sklearn.grid_search import GridSearchCV\n",
    "from time import time"
   ]
  },
  {
   "cell_type": "code",
   "execution_count": 25,
   "metadata": {
    "collapsed": false
   },
   "outputs": [
    {
     "data": {
      "text/plain": [
       "(721, 22)"
      ]
     },
     "execution_count": 25,
     "metadata": {},
     "output_type": "execute_result"
    }
   ],
   "source": [
    "# Load Tennessee Eastman Process Data\n",
    "original_data = pickle.load( open( \"data/tep_data_sequence.dat\", \"rb\" ) )\n",
    "original_normal_data = original_data[\"Normal\"]\n",
    "original_normal_data.shape"
   ]
  },
  {
   "cell_type": "code",
   "execution_count": 27,
   "metadata": {
    "collapsed": false
   },
   "outputs": [
    {
     "name": "stdout",
     "output_type": "stream",
     "text": [
      "---------------\n",
      "Applying data Windows of type: Normal\n",
      "There is no model registered, creating a normal one.\n",
      "---------------\n",
      "---------------\n",
      "Applying data Windows of type: Fault14_1\n",
      "Out of normal operation condition detected.\n",
      "Unrecognized behaviour, training a new model.\n",
      "514\n",
      "---------------\n",
      "---------------\n",
      "Applying data Windows of type: Fault13_1\n",
      "Out of normal operation condition detected.\n",
      "Unrecognized behaviour, training a new model.\n",
      "575\n",
      "---------------\n",
      "---------------\n",
      "Applying data Windows of type: Fault11_1\n",
      "Out of normal operation condition detected.\n",
      "Operation mode classified as: Fault13_1\n",
      "---------------\n",
      "---------------\n",
      "Applying data Windows of type: Fault13_2\n",
      "Out of normal operation condition detected.\n",
      "Operation mode classified as: Fault13_1\n",
      "---------------\n",
      "---------------\n",
      "Applying data Windows of type: Fault2_1\n",
      "Out of normal operation condition detected.\n",
      "Operation mode classified as: Fault13_1\n",
      "---------------\n",
      "---------------\n",
      "Applying data Windows of type: Fault20_1\n",
      "Out of normal operation condition detected.\n",
      "Operation mode classified as: Fault13_1\n",
      "---------------\n",
      "---------------\n",
      "Applying data Windows of type: Fault14_2\n",
      "Out of normal operation condition detected.\n",
      "Operation mode classified as: Fault13_1\n",
      "---------------\n",
      "---------------\n",
      "Applying data Windows of type: Fault2_2\n",
      "Out of normal operation condition detected.\n",
      "Operation mode classified as: Fault13_1\n",
      "---------------\n",
      "---------------\n",
      "Applying data Windows of type: Fault11_2\n",
      "Out of normal operation condition detected.\n",
      "Operation mode classified as: Fault13_1\n",
      "---------------\n",
      "---------------\n",
      "Applying data Windows of type: Fault20_2\n",
      "Out of normal operation condition detected.\n",
      "Operation mode classified as: Fault13_1\n",
      "---------------\n"
     ]
    },
    {
     "data": {
      "text/plain": [
       "[<matplotlib.lines.Line2D at 0x10c895690>]"
      ]
     },
     "execution_count": 27,
     "metadata": {},
     "output_type": "execute_result"
    },
    {
     "data": {
      "image/png": "[encoded data removed]",
      "text/plain": [
       "<matplotlib.figure.Figure at 0x10c50d510>"
      ]
     },
     "metadata": {},
     "output_type": "display_data"
    }
   ],
   "source": [
    "sequence = [\"Normal\",\n",
    "            \"Fault14_1\", \n",
    "            \"Fault13_1\", \n",
    "            \"Fault11_1\", \n",
    "            \"Fault13_2\", \n",
    "            \"Fault2_1\",\n",
    "            \"Fault20_1\", \n",
    "            \"Fault14_2\", \n",
    "            \"Fault2_2\", \n",
    "            \"Fault11_2\", \n",
    "            \"Fault20_2\"]\n",
    "\n",
    "fault_number = {\n",
    "    \"Normal\": 0,\n",
    "    \"Fault2_1\": 2,\n",
    "    \"Fault2_2\": 2,\n",
    "    \"Fault11_1\": 11,\n",
    "    \"Fault11_2\": 11,\n",
    "    \"Fault13_1\": 13,\n",
    "    \"Fault13_2\": 13,\n",
    "    \"Fault14_1\": 14,\n",
    "    \"Fault14_2\": 14,\n",
    "    \"Fault20_1\": 20,\n",
    "    \"Fault20_2\": 20\n",
    "}\n",
    "\n",
    "fdd = FDD(name='TEPFDD',\n",
    "          training_type='spark',\n",
    "          n_components=np.array([1, 2]),\n",
    "          n_pc=np.array([1, 2]),\n",
    "          covar_types=np.array([7]),\n",
    "          n_jobs=64)\n",
    "complete_stats = np.empty(0)\n",
    "fault_sequence = np.empty(0)\n",
    "detection_sequence = np.empty(0)\n",
    "training_data_sequence = np.empty(0)\n",
    "detection_point_sequence = np.empty(0)\n",
    "for key in sequence:\n",
    "    print '---------------'\n",
    "    print 'Applying data Windows of type: {}'.format(key)\n",
    "    x_windows = original_data[key]\n",
    "    normal_stats, normal_thr, best_status, best_thr, best_id, is_new = fdd.fdd(x_windows)\n",
    "    if is_new:\n",
    "        fdd.set_op_name(best_id, key)\n",
    "        fdd.set_op_kind(best_id, key[0])\n",
    "        fdd.set_op_status(best_id, 'OK')\n",
    "        \n",
    "    # Stats\n",
    "    complete_stats = np.concatenate((complete_stats, normal_stats), axis=0)\n",
    "    \n",
    "    # Fault Sequence\n",
    "    this_sequence = np.zeros(len(x_windows))\n",
    "    this_sequence[251:751] = fault_number[key]\n",
    "    fault_sequence = np.concatenate((fault_sequence, this_sequence), axis=0)\n",
    "    \n",
    "    # Detection Sequence\n",
    "    this_detection = np.zeros(len(x_windows))\n",
    "    this_training = np.zeros(len(x_windows))\n",
    "    detection_point = np.zeros(len(x_windows))\n",
    "    if is_new:\n",
    "        this_training[normal_stats > normal_thr] = fault_number[fdd.models[best_id].name]\n",
    "    else:\n",
    "        this_detection[normal_stats > normal_thr] = fault_number[fdd.models[best_id].name]\n",
    "    \n",
    "    if len(normal_stats) > 0:\n",
    "        detection_point[np.where(normal_stats > normal_thr)[0][0]] = fault_number[fdd.models[best_id].name]\n",
    "    \n",
    "    detection_sequence = np.concatenate((detection_sequence, this_detection), axis=0)\n",
    "    training_data_sequence = np.concatenate((training_data_sequence, this_training), axis=0)\n",
    "    detection_point_sequence = np.concatenate((detection_point_sequence, detection_point), axis=0)\n",
    "    print '---------------'\n",
    "    \n",
    "plt.plot(complete_stats)"
   ]
  },
  {
   "cell_type": "code",
   "execution_count": 28,
   "metadata": {
    "collapsed": false
   },
   "outputs": [
    {
     "data": {
      "text/plain": [
       "10009"
      ]
     },
     "execution_count": 28,
     "metadata": {},
     "output_type": "execute_result"
    }
   ],
   "source": [
    "len(complete_stats)"
   ]
  },
  {
   "cell_type": "code",
   "execution_count": 29,
   "metadata": {
    "collapsed": false
   },
   "outputs": [
    {
     "name": "stdout",
     "output_type": "stream",
     "text": [
      "10730\n"
     ]
    },
    {
     "data": {
      "text/plain": [
       "[1, 10730, 0, 22]"
      ]
     },
     "execution_count": 29,
     "metadata": {},
     "output_type": "execute_result"
    },
    {
     "data": {
      "image/png": "[encoded data removed]",
      "text/plain": [
       "<matplotlib.figure.Figure at 0x10c8de190>"
      ]
     },
     "metadata": {},
     "output_type": "display_data"
    }
   ],
   "source": [
    "print len(fault_sequence)\n",
    "plt.figure()\n",
    "plt.plot(fault_sequence)\n",
    "plt.xlabel('Amostra')\n",
    "plt.ylabel('ID da Falha')\n",
    "plt.grid()\n",
    "plt.title('Sequencia de Simulada')\n",
    "plt.axis([1, len(fault_sequence), 0, 22])"
   ]
  },
  {
   "cell_type": "code",
   "execution_count": 30,
   "metadata": {
    "collapsed": false
   },
   "outputs": [
    {
     "data": {
      "text/plain": [
       "[1, 10730, 0, 22]"
      ]
     },
     "execution_count": 30,
     "metadata": {},
     "output_type": "execute_result"
    },
    {
     "data": {
      "image/png": "[encoded data removed]",
      "text/plain": [
       "<matplotlib.figure.Figure at 0x10c89e710>"
      ]
     },
     "metadata": {},
     "output_type": "display_data"
    }
   ],
   "source": [
    "plt.figure()\n",
    "plt.plot(detection_sequence)\n",
    "plt.xlabel('Amostra')\n",
    "plt.ylabel('ID da Falha')\n",
    "plt.grid()\n",
    "plt.title('Sequencia de Diagnostico')\n",
    "plt.axis([1, len(detection_sequence), 0, 22])"
   ]
  },
  {
   "cell_type": "code",
   "execution_count": 31,
   "metadata": {
    "collapsed": false
   },
   "outputs": [
    {
     "data": {
      "text/plain": [
       "[1, 10730, 0, 22]"
      ]
     },
     "execution_count": 31,
     "metadata": {},
     "output_type": "execute_result"
    },
    {
     "data": {
      "image/png": "[encoded data removed]",
      "text/plain": [
       "<matplotlib.figure.Figure at 0x10c251d10>"
      ]
     },
     "metadata": {},
     "output_type": "display_data"
    }
   ],
   "source": [
    "plt.figure()\n",
    "plt.plot(training_data_sequence)\n",
    "plt.xlabel('Amostra')\n",
    "plt.ylabel('ID da Falha')\n",
    "plt.grid()\n",
    "plt.title('Sequencia de Dados de Treinamento')\n",
    "plt.axis([1, len(training_data_sequence), 0, 22])"
   ]
  },
  {
   "cell_type": "code",
   "execution_count": 32,
   "metadata": {
    "collapsed": false
   },
   "outputs": [
    {
     "data": {
      "text/plain": [
       "[1, 10730, 0, 22]"
      ]
     },
     "execution_count": 32,
     "metadata": {},
     "output_type": "execute_result"
    },
    {
     "data": {
      "image/png": "[encoded data removed]",
      "text/plain": [
       "<matplotlib.figure.Figure at 0x10b3bb090>"
      ]
     },
     "metadata": {},
     "output_type": "display_data"
    }
   ],
   "source": [
    "plt.figure()\n",
    "plt.plot(detection_point_sequence)\n",
    "plt.xlabel('Amostra')\n",
    "plt.ylabel('ID da Falha')\n",
    "plt.grid()\n",
    "plt.title('Sequencia de Dados de Treinamento')\n",
    "plt.axis([1, len(detection_point_sequence), 0, 22])"
   ]
  },
  {
   "cell_type": "code",
   "execution_count": null,
   "metadata": {
    "collapsed": false
   },
   "outputs": [],
   "source": []
  },
  {
   "cell_type": "code",
   "execution_count": null,
   "metadata": {
    "collapsed": true
   },
   "outputs": [],
   "source": []
  }
 ],
 "metadata": {
  "kernelspec": {
   "display_name": "Python 2",
   "language": "python",
   "name": "python2"
  },
  "language_info": {
   "codemirror_mode": {
    "name": "ipython",
    "version": 2
   },
   "file_extension": ".py",
   "mimetype": "text/x-python",
   "name": "python",
   "nbconvert_exporter": "python",
   "pygments_lexer": "ipython2",
   "version": "2.7.10"
  }
 },
 "nbformat": 4,
 "nbformat_minor": 0
}
