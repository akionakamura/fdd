{
 "cells": [
  {
   "cell_type": "code",
   "execution_count": 1,
   "metadata": {
    "collapsed": true
   },
   "outputs": [],
   "source": [
    "# Author: Thiago Akio Nakamura\n",
    "# E-mail: akionakas@gmail.com\n",
    "\n",
    "# Import necessary classes and libraries\n",
    "\n",
    "import numpy as np\n",
    "import scipy.io\n",
    "import pickle"
   ]
  },
  {
   "cell_type": "code",
   "execution_count": 2,
   "metadata": {
    "collapsed": true
   },
   "outputs": [],
   "source": [
    "mat = scipy.io.loadmat('data/DadosTodasFalhas.mat')\n",
    "data = {}\n",
    "data[\"Normal\"] = np.array(mat['Xsep'][:, 0][0])\n",
    "data[\"Fault1\"] = np.array(mat['Xsep'][:, 1][0])\n",
    "data[\"Fault2\"] = np.array(mat['Xsep'][:, 2][0])\n",
    "data[\"Fault3\"] = np.array(mat['Xsep'][:, 3][0])\n",
    "data[\"Fault4\"] = np.array(mat['Xsep'][:, 4][0])\n",
    "data[\"Fault5\"] = np.array(mat['Xsep'][:, 5][0])\n",
    "data[\"Fault6\"] = np.array(mat['Xsep'][:, 6][0])\n",
    "data[\"Fault7\"] = np.array(mat['Xsep'][:, 7][0])\n",
    "data[\"Fault8\"] = np.array(mat['Xsep'][:, 8][0])\n",
    "data[\"Fault9\"] = np.array(mat['Xsep'][:, 9][0])\n",
    "data[\"Fault10\"] = np.array(mat['Xsep'][:, 10][0])\n",
    "data[\"Fault11\"] = np.array(mat['Xsep'][:, 11][0])\n",
    "data[\"Fault12\"] = np.array(mat['Xsep'][:, 12][0])\n",
    "data[\"Fault13\"] = np.array(mat['Xsep'][:, 13][0])\n",
    "data[\"Fault14\"] = np.array(mat['Xsep'][:, 14][0])\n",
    "data[\"Fault15\"] = np.array(mat['Xsep'][:, 15][0])\n",
    "data[\"Fault16\"] = np.array(mat['Xsep'][:, 16][0])\n",
    "data[\"Fault17\"] = np.array(mat['Xsep'][:, 17][0])\n",
    "data[\"Fault18\"] = np.array(mat['Xsep'][:, 18][0])\n",
    "data[\"Fault19\"] = np.array(mat['Xsep'][:, 19][0])\n",
    "data[\"Fault20\"] = np.array(mat['Xsep'][:, 20][0])"
   ]
  },
  {
   "cell_type": "code",
   "execution_count": 3,
   "metadata": {
    "collapsed": false
   },
   "outputs": [],
   "source": [
    "with open('data/tep_data_full.dat', 'wb') as outfile:\n",
    "    pickle.dump(data, outfile, protocol=pickle.HIGHEST_PROTOCOL)"
   ]
  },
  {
   "cell_type": "code",
   "execution_count": 6,
   "metadata": {
    "collapsed": false
   },
   "outputs": [],
   "source": [
    "mat = scipy.io.loadmat('data/Sequence.mat')\n",
    "data_normal = data[\"Normal\"]\n",
    "data = {}\n",
    "data[\"Normal\"] = data_normal\n",
    "data[\"Fault2_1\"] = np.array(mat['Xsep'][:, 0][0])\n",
    "data[\"Fault11_1\"] = np.array(mat['Xsep'][:, 1][0])\n",
    "data[\"Fault13_1\"] = np.array(mat['Xsep'][:, 2][0])\n",
    "data[\"Fault14_1\"] = np.array(mat['Xsep'][:, 3][0])\n",
    "data[\"Fault20_1\"] = np.array(mat['Xsep'][:, 4][0])\n",
    "data[\"Fault13_2\"] = np.array(mat['Xsep'][:, 5][0])\n",
    "data[\"Fault20_2\"] = np.array(mat['Xsep'][:, 6][0])\n",
    "data[\"Fault14_2\"] = np.array(mat['Xsep'][:, 7][0])\n",
    "data[\"Fault2_2\"] = np.array(mat['Xsep'][:, 8][0])\n",
    "data[\"Fault11_2\"] = np.array(mat['Xsep'][:, 9][0])"
   ]
  },
  {
   "cell_type": "code",
   "execution_count": 7,
   "metadata": {
    "collapsed": true
   },
   "outputs": [],
   "source": [
    "with open('data/tep_data_sequence.dat', 'wb') as outfile:\n",
    "    pickle.dump(data, outfile, protocol=pickle.HIGHEST_PROTOCOL)"
   ]
  },
  {
   "cell_type": "code",
   "execution_count": null,
   "metadata": {
    "collapsed": false
   },
   "outputs": [],
   "source": []
  },
  {
   "cell_type": "code",
   "execution_count": null,
   "metadata": {
    "collapsed": true
   },
   "outputs": [],
   "source": []
  }
 ],
 "metadata": {
  "kernelspec": {
   "display_name": "Python 2",
   "language": "python",
   "name": "python2"
  },
  "language_info": {
   "codemirror_mode": {
    "name": "ipython",
    "version": 2
   },
   "file_extension": ".py",
   "mimetype": "text/x-python",
   "name": "python",
   "nbconvert_exporter": "python",
   "pygments_lexer": "ipython2",
   "version": "2.7.10"
  }
 },
 "nbformat": 4,
 "nbformat_minor": 0
}
