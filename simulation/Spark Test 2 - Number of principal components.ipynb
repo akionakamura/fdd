{
 "cells": [
  {
   "cell_type": "code",
   "execution_count": 2,
   "metadata": {
    "collapsed": true
   },
   "outputs": [],
   "source": [
    "# Author: Thiago Akio Nakamura\n",
    "# E-mail: akionakas@gmail.com\n",
    "\n",
    "# Import necessary classes and libraries\n",
    "%matplotlib inline\n",
    "import numpy as np\n",
    "import matplotlib.pyplot as plt\n",
    "import time\n",
    "import matplotlib as mpl\n",
    "import pickle\n",
    "from fdd import OperationMode\n",
    "from fdd import FDD\n",
    "\n",
    "import scipy.io\n",
    "from scipy import linalg\n",
    "from sklearn.datasets import make_blobs\n",
    "from sklearn.mixture import PGMM\n",
    "from scipy.stats import randint as sp_randint\n",
    "\n",
    "from sklearn.naive_bayes import GaussianNB\n",
    "from sklearn.metrics import brier_score_loss\n",
    "from sklearn.calibration import CalibratedClassifierCV\n",
    "from sklearn.cross_validation import train_test_split\n",
    "from matplotlib.colors import LogNorm\n",
    "from sklearn.grid_search import GridSearchCV\n",
    "from time import time"
   ]
  },
  {
   "cell_type": "code",
   "execution_count": 14,
   "metadata": {
    "collapsed": false
   },
   "outputs": [
    {
     "name": "stdout",
     "output_type": "stream",
     "text": [
      "Created 10000 samples wih 30 features and 5 centers.\n"
     ]
    }
   ],
   "source": [
    "# Create and display data set\n",
    "n_samples = 10000\n",
    "n_features = 30\n",
    "centers = 5\n",
    "\n",
    "x, y = make_blobs(n_samples=n_samples, \n",
    "                  n_features=n_features, \n",
    "                  centers=centers)\n",
    "print 'Created {} samples wih {} features and {} centers.'.format(x.shape[0], x.shape[1], centers)\n",
    "\n",
    "t = np.arange(x.shape[0])\n",
    "# If the data set has is bi-dimensional, scatter plot it\n",
    "if n_features == 2:\n",
    "    plt.figure(figsize=(12, 8))\n",
    "    plt.scatter(x[:, 0], x[:, 1])\n",
    "    plt.title('Data set')\n",
    "    plt.ylabel('Feature 1')\n",
    "    plt.xlabel('Feature 2')\n",
    "    plt.grid()\n",
    "    plt.show()\n",
    "    "
   ]
  },
  {
   "cell_type": "code",
   "execution_count": 15,
   "metadata": {
    "collapsed": false
   },
   "outputs": [
    {
     "name": "stdout",
     "output_type": "stream",
     "text": [
      "There is no model registered, creating a normal one.\n",
      "     32 models trained in 6.73813605309 seconds.\n",
      "     n_componets\n",
      "[1 2]\n",
      "     n_pc\n",
      "[1 2]\n",
      "     covar_types\n",
      "[1 2 3 4 5 6 7 8]\n"
     ]
    }
   ],
   "source": [
    "# 1\n",
    "n_components=np.array([1, 2])\n",
    "n_pc=np.array([1, 2])\n",
    "covar_types=np.array([1, 2, 3, 4, 5, 6, 7, 8])\n",
    "num_models = len(n_components) * len(n_pc) * len(covar_types)\n",
    "\n",
    "fdd = FDD(name='TEPFDD',\n",
    "          training_type='spark',\n",
    "          n_components=n_components,\n",
    "          n_pc=n_pc,\n",
    "          covar_types=covar_types,\n",
    "          n_jobs=16)\n",
    "start = time()\n",
    "_, _, _, _, id, is_new = fdd.fdd(x)\n",
    "end = time()\n",
    "print '     {} models trained in {} seconds.'.format(num_models, end - start)\n",
    "print '     n_componets'\n",
    "print n_components\n",
    "print '     n_pc'\n",
    "print n_pc\n",
    "print '     covar_types'\n",
    "print covar_types"
   ]
  },
  {
   "cell_type": "code",
   "execution_count": 16,
   "metadata": {
    "collapsed": false
   },
   "outputs": [
    {
     "name": "stdout",
     "output_type": "stream",
     "text": [
      "There is no model registered, creating a normal one.\n",
      "     64 models trained in 8.84561395645 seconds.\n",
      "     n_componets\n",
      "[1 2]\n",
      "     n_pc\n",
      "[1 2 3 4]\n",
      "     covar_types\n",
      "[1 2 3 4 5 6 7 8]\n"
     ]
    }
   ],
   "source": [
    "# 2\n",
    "n_components=np.array([1, 2])\n",
    "n_pc=np.array([1, 2, 3, 4])\n",
    "covar_types=np.array([1, 2, 3, 4, 5, 6, 7, 8])\n",
    "num_models = len(n_components) * len(n_pc) * len(covar_types)\n",
    "\n",
    "fdd = FDD(name='TEPFDD',\n",
    "          training_type='spark',\n",
    "          n_components=n_components,\n",
    "          n_pc=n_pc,\n",
    "          covar_types=covar_types,\n",
    "          n_jobs=16)\n",
    "start = time()\n",
    "_, _, _, _, id, is_new = fdd.fdd(x)\n",
    "end = time()\n",
    "print '     {} models trained in {} seconds.'.format(num_models, end - start)\n",
    "print '     n_componets'\n",
    "print n_components\n",
    "print '     n_pc'\n",
    "print n_pc\n",
    "print '     covar_types'\n",
    "print covar_types"
   ]
  },
  {
   "cell_type": "code",
   "execution_count": 17,
   "metadata": {
    "collapsed": false
   },
   "outputs": [
    {
     "name": "stdout",
     "output_type": "stream",
     "text": [
      "There is no model registered, creating a normal one.\n",
      "     96 models trained in 12.033356905 seconds.\n",
      "     n_componets\n",
      "[1 2]\n",
      "     n_pc\n",
      "[1 2 3 4 5 6]\n",
      "     covar_types\n",
      "[1 2 3 4 5 6 7 8]\n"
     ]
    }
   ],
   "source": [
    "# 3\n",
    "n_components=np.array([1, 2])\n",
    "n_pc=np.array([1, 2, 3, 4, 5, 6])\n",
    "covar_types=np.array([1, 2, 3, 4, 5, 6, 7, 8])\n",
    "num_models = len(n_components) * len(n_pc) * len(covar_types)\n",
    "\n",
    "fdd = FDD(name='TEPFDD',\n",
    "          training_type='spark',\n",
    "          n_components=n_components,\n",
    "          n_pc=n_pc,\n",
    "          covar_types=covar_types,\n",
    "          n_jobs=16)\n",
    "start = time()\n",
    "_, _, _, _, id, is_new = fdd.fdd(x)\n",
    "end = time()\n",
    "print '     {} models trained in {} seconds.'.format(num_models, end - start)\n",
    "print '     n_componets'\n",
    "print n_components\n",
    "print '     n_pc'\n",
    "print n_pc\n",
    "print '     covar_types'\n",
    "print covar_types"
   ]
  },
  {
   "cell_type": "code",
   "execution_count": 18,
   "metadata": {
    "collapsed": false
   },
   "outputs": [
    {
     "name": "stdout",
     "output_type": "stream",
     "text": [
      "There is no model registered, creating a normal one.\n",
      "     128 models trained in 14.3427700996 seconds.\n",
      "     n_componets\n",
      "[1 2]\n",
      "     n_pc\n",
      "[1 2 3 4 5 6 7 8]\n",
      "     covar_types\n",
      "[1 2 3 4 5 6 7 8]\n"
     ]
    }
   ],
   "source": [
    "# 4\n",
    "n_components=np.array([1, 2])\n",
    "n_pc=np.array([1, 2, 3, 4, 5, 6, 7, 8])\n",
    "covar_types=np.array([1, 2, 3, 4, 5, 6, 7, 8])\n",
    "num_models = len(n_components) * len(n_pc) * len(covar_types)\n",
    "\n",
    "fdd = FDD(name='TEPFDD',\n",
    "          training_type='spark',\n",
    "          n_components=n_components,\n",
    "          n_pc=n_pc,\n",
    "          covar_types=covar_types,\n",
    "          n_jobs=16)\n",
    "start = time()\n",
    "_, _, _, _, id, is_new = fdd.fdd(x)\n",
    "end = time()\n",
    "print '     {} models trained in {} seconds.'.format(num_models, end - start)\n",
    "print '     n_componets'\n",
    "print n_components\n",
    "print '     n_pc'\n",
    "print n_pc\n",
    "print '     covar_types'\n",
    "print covar_types"
   ]
  },
  {
   "cell_type": "code",
   "execution_count": 19,
   "metadata": {
    "collapsed": false
   },
   "outputs": [
    {
     "name": "stdout",
     "output_type": "stream",
     "text": [
      "There is no model registered, creating a normal one.\n",
      "     160 models trained in 19.5401611328 seconds.\n",
      "     n_componets\n",
      "[1 2]\n",
      "     n_pc\n",
      "[ 1  2  3  4  5  6  7  8  9 10]\n",
      "     covar_types\n",
      "[1 2 3 4 5 6 7 8]\n"
     ]
    }
   ],
   "source": [
    "# 5\n",
    "n_components=np.array([1, 2])\n",
    "n_pc=np.array([1, 2, 3, 4, 5, 6, 7, 8, 9, 10])\n",
    "covar_types=np.array([1, 2, 3, 4, 5, 6, 7, 8])\n",
    "num_models = len(n_components) * len(n_pc) * len(covar_types)\n",
    "\n",
    "fdd = FDD(name='TEPFDD',\n",
    "          training_type='spark',\n",
    "          n_components=n_components,\n",
    "          n_pc=n_pc,\n",
    "          covar_types=covar_types,\n",
    "          n_jobs=16)\n",
    "start = time()\n",
    "_, _, _, _, id, is_new = fdd.fdd(x)\n",
    "end = time()\n",
    "print '     {} models trained in {} seconds.'.format(num_models, end - start)\n",
    "print '     n_componets'\n",
    "print n_components\n",
    "print '     n_pc'\n",
    "print n_pc\n",
    "print '     covar_types'\n",
    "print covar_types"
   ]
  },
  {
   "cell_type": "code",
   "execution_count": 20,
   "metadata": {
    "collapsed": false
   },
   "outputs": [
    {
     "name": "stdout",
     "output_type": "stream",
     "text": [
      "There is no model registered, creating a normal one.\n",
      "     176 models trained in 21.4080350399 seconds.\n",
      "     n_componets\n",
      "[1 2]\n",
      "     n_pc\n",
      "[ 1  2  3  4  6  7  8  9 10 11 12]\n",
      "     covar_types\n",
      "[1 2 3 4 5 6 7 8]\n"
     ]
    }
   ],
   "source": [
    "# 6\n",
    "n_components=np.array([1, 2])\n",
    "n_pc=np.array([1, 2, 3, 4, 6, 7, 8, 9, 10, 11, 12])\n",
    "covar_types=np.array([1, 2, 3, 4, 5, 6, 7, 8])\n",
    "num_models = len(n_components) * len(n_pc) * len(covar_types)\n",
    "\n",
    "fdd = FDD(name='TEPFDD',\n",
    "          training_type='spark',\n",
    "          n_components=n_components,\n",
    "          n_pc=n_pc,\n",
    "          covar_types=covar_types,\n",
    "          n_jobs=16)\n",
    "start = time()\n",
    "_, _, _, _, id, is_new = fdd.fdd(x)\n",
    "end = time()\n",
    "print '     {} models trained in {} seconds.'.format(num_models, end - start)\n",
    "print '     n_componets'\n",
    "print n_components\n",
    "print '     n_pc'\n",
    "print n_pc\n",
    "print '     covar_types'\n",
    "print covar_types"
   ]
  },
  {
   "cell_type": "code",
   "execution_count": 21,
   "metadata": {
    "collapsed": false
   },
   "outputs": [
    {
     "name": "stdout",
     "output_type": "stream",
     "text": [
      "There is no model registered, creating a normal one.\n",
      "     224 models trained in 28.1986470222 seconds.\n",
      "     n_componets\n",
      "[1 2]\n",
      "     n_pc\n",
      "[ 1  2  3  4  5  6  7  8  9 10 11 12 13 14]\n",
      "     covar_types\n",
      "[1 2 3 4 5 6 7 8]\n"
     ]
    }
   ],
   "source": [
    "# 7\n",
    "n_components=np.array([1, 2])\n",
    "n_pc=np.array([1, 2, 3, 4, 5, 6, 7, 8, 9, 10, 11, 12, 13, 14])\n",
    "covar_types=np.array([1, 2, 3, 4, 5, 6, 7, 8])\n",
    "num_models = len(n_components) * len(n_pc) * len(covar_types)\n",
    "\n",
    "fdd = FDD(name='TEPFDD',\n",
    "          training_type='spark',\n",
    "          n_components=n_components,\n",
    "          n_pc=n_pc,\n",
    "          covar_types=covar_types,\n",
    "          n_jobs=16)\n",
    "start = time()\n",
    "_, _, _, _, id, is_new = fdd.fdd(x)\n",
    "end = time()\n",
    "print '     {} models trained in {} seconds.'.format(num_models, end - start)\n",
    "print '     n_componets'\n",
    "print n_components\n",
    "print '     n_pc'\n",
    "print n_pc\n",
    "print '     covar_types'\n",
    "print covar_types"
   ]
  },
  {
   "cell_type": "code",
   "execution_count": 22,
   "metadata": {
    "collapsed": false
   },
   "outputs": [
    {
     "name": "stdout",
     "output_type": "stream",
     "text": [
      "There is no model registered, creating a normal one.\n",
      "     256 models trained in 36.287653923 seconds.\n",
      "     n_componets\n",
      "[1 2]\n",
      "     n_pc\n",
      "[ 1  2  3  4  5  6  7  8  9 10 11 12 13 14 15 16]\n",
      "     covar_types\n",
      "[1 2 3 4 5 6 7 8]\n"
     ]
    }
   ],
   "source": [
    "# 8\n",
    "n_components=np.array([1, 2])\n",
    "n_pc=np.array([1, 2, 3, 4, 5, 6, 7, 8, 9, 10, 11, 12, 13, 14, 15, 16])\n",
    "covar_types=np.array([1, 2, 3, 4, 5, 6, 7, 8])\n",
    "num_models = len(n_components) * len(n_pc) * len(covar_types)\n",
    "\n",
    "fdd = FDD(name='TEPFDD',\n",
    "          training_type='spark',\n",
    "          n_components=n_components,\n",
    "          n_pc=n_pc,\n",
    "          covar_types=covar_types,\n",
    "          n_jobs=16)\n",
    "start = time()\n",
    "_, _, _, _, id, is_new = fdd.fdd(x)\n",
    "end = time()\n",
    "print '     {} models trained in {} seconds.'.format(num_models, end - start)\n",
    "print '     n_componets'\n",
    "print n_components\n",
    "print '     n_pc'\n",
    "print n_pc\n",
    "print '     covar_types'\n",
    "print covar_types"
   ]
  },
  {
   "cell_type": "code",
   "execution_count": 23,
   "metadata": {
    "collapsed": false
   },
   "outputs": [
    {
     "name": "stdout",
     "output_type": "stream",
     "text": [
      "There is no model registered, creating a normal one.\n",
      "     288 models trained in 33.9722402096 seconds.\n",
      "     n_componets\n",
      "[1 2]\n",
      "     n_pc\n",
      "[ 1  2  3  4  5  6  7  8  9 10 11 12 13 14 15 16 17 18]\n",
      "     covar_types\n",
      "[1 2 3 4 5 6 7 8]\n"
     ]
    }
   ],
   "source": [
    "# 9\n",
    "n_components=np.array([1, 2])\n",
    "n_pc=np.array([1, 2, 3, 4, 5, 6, 7, 8, 9, 10, 11, 12, 13, 14, 15, 16, 17, 18])\n",
    "covar_types=np.array([1, 2, 3, 4, 5, 6, 7, 8])\n",
    "num_models = len(n_components) * len(n_pc) * len(covar_types)\n",
    "\n",
    "fdd = FDD(name='TEPFDD',\n",
    "          training_type='spark',\n",
    "          n_components=n_components,\n",
    "          n_pc=n_pc,\n",
    "          covar_types=covar_types,\n",
    "          n_jobs=16)\n",
    "start = time()\n",
    "_, _, _, _, id, is_new = fdd.fdd(x)\n",
    "end = time()\n",
    "print '     {} models trained in {} seconds.'.format(num_models, end - start)\n",
    "print '     n_componets'\n",
    "print n_components\n",
    "print '     n_pc'\n",
    "print n_pc\n",
    "print '     covar_types'\n",
    "print covar_types"
   ]
  },
  {
   "cell_type": "code",
   "execution_count": 24,
   "metadata": {
    "collapsed": false
   },
   "outputs": [
    {
     "name": "stdout",
     "output_type": "stream",
     "text": [
      "There is no model registered, creating a normal one.\n",
      "     320 models trained in 35.9675459862 seconds.\n",
      "     n_componets\n",
      "[1 2]\n",
      "     n_pc\n",
      "[ 1  2  3  4  5  6  7  8  9 10 11 12 13 14 15 16 17 18 19 20]\n",
      "     covar_types\n",
      "[1 2 3 4 5 6 7 8]\n"
     ]
    }
   ],
   "source": [
    "# 10\n",
    "n_components=np.array([1, 2])\n",
    "n_pc=np.array([1, 2, 3, 4, 5, 6, 7, 8, 9, 10, 11, 12, 13, 14, 15, 16, 17, 18, 19, 20])\n",
    "covar_types=np.array([1, 2, 3, 4, 5, 6, 7, 8])\n",
    "num_models = len(n_components) * len(n_pc) * len(covar_types)\n",
    "\n",
    "fdd = FDD(name='TEPFDD',\n",
    "          training_type='spark',\n",
    "          n_components=n_components,\n",
    "          n_pc=n_pc,\n",
    "          covar_types=covar_types,\n",
    "          n_jobs=16)\n",
    "start = time()\n",
    "_, _, _, _, id, is_new = fdd.fdd(x)\n",
    "end = time()\n",
    "print '     {} models trained in {} seconds.'.format(num_models, end - start)\n",
    "print '     n_componets'\n",
    "print n_components\n",
    "print '     n_pc'\n",
    "print n_pc\n",
    "print '     covar_types'\n",
    "print covar_types"
   ]
  },
  {
   "cell_type": "code",
   "execution_count": 25,
   "metadata": {
    "collapsed": false
   },
   "outputs": [
    {
     "name": "stdout",
     "output_type": "stream",
     "text": [
      "There is no model registered, creating a normal one.\n",
      "     352 models trained in 37.7014398575 seconds.\n",
      "     n_componets\n",
      "[1 2]\n",
      "     n_pc\n",
      "[ 1  2  3  4  5  6  7  8  9 10 11 12 13 14 15 16 17 18 19 20 21 22]\n",
      "     covar_types\n",
      "[1 2 3 4 5 6 7 8]\n"
     ]
    }
   ],
   "source": [
    "# 11\n",
    "n_components=np.array([1, 2])\n",
    "n_pc=np.array([1, 2, 3, 4, 5, 6, 7, 8, 9, 10, 11, 12, 13, 14, 15, 16, 17, 18, 19, 20, 21, 22])\n",
    "covar_types=np.array([1, 2, 3, 4, 5, 6, 7, 8])\n",
    "num_models = len(n_components) * len(n_pc) * len(covar_types)\n",
    "\n",
    "fdd = FDD(name='TEPFDD',\n",
    "          training_type='spark',\n",
    "          n_components=n_components,\n",
    "          n_pc=n_pc,\n",
    "          covar_types=covar_types,\n",
    "          n_jobs=16)\n",
    "start = time()\n",
    "_, _, _, _, id, is_new = fdd.fdd(x)\n",
    "end = time()\n",
    "print '     {} models trained in {} seconds.'.format(num_models, end - start)\n",
    "print '     n_componets'\n",
    "print n_components\n",
    "print '     n_pc'\n",
    "print n_pc\n",
    "print '     covar_types'\n",
    "print covar_types"
   ]
  },
  {
   "cell_type": "code",
   "execution_count": 26,
   "metadata": {
    "collapsed": false
   },
   "outputs": [
    {
     "name": "stdout",
     "output_type": "stream",
     "text": [
      "There is no model registered, creating a normal one.\n",
      "     416 models trained in 46.4504048824 seconds.\n",
      "     n_componets\n",
      "[1 2]\n",
      "     n_pc\n",
      "[ 1  2  3  4  5  6  7  8  9 10 11 12 13 14 15 16 17 18 19 20 21 22 23 24 25\n",
      " 26]\n",
      "     covar_types\n",
      "[1 2 3 4 5 6 7 8]\n"
     ]
    }
   ],
   "source": [
    "# 12\n",
    "n_components=np.array([1, 2])\n",
    "n_pc=np.array([1, 2, 3, 4, 5, 6, 7, 8, 9, 10, 11, 12, 13, 14, 15, 16, 17, 18, 19, 20, 21, 22, 23, 24, 25, 26])\n",
    "covar_types=np.array([1, 2, 3, 4, 5, 6, 7, 8])\n",
    "num_models = len(n_components) * len(n_pc) * len(covar_types)\n",
    "\n",
    "fdd = FDD(name='TEPFDD',\n",
    "          training_type='spark',\n",
    "          n_components=n_components,\n",
    "          n_pc=n_pc,\n",
    "          covar_types=covar_types,\n",
    "          n_jobs=16)\n",
    "start = time()\n",
    "_, _, _, _, id, is_new = fdd.fdd(x)\n",
    "end = time()\n",
    "print '     {} models trained in {} seconds.'.format(num_models, end - start)\n",
    "print '     n_componets'\n",
    "print n_components\n",
    "print '     n_pc'\n",
    "print n_pc\n",
    "print '     covar_types'\n",
    "print covar_types"
   ]
  },
  {
   "cell_type": "code",
   "execution_count": 27,
   "metadata": {
    "collapsed": false
   },
   "outputs": [
    {
     "name": "stdout",
     "output_type": "stream",
     "text": [
      "There is no model registered, creating a normal one.\n",
      "     448 models trained in 54.9028170109 seconds.\n",
      "     n_componets\n",
      "[1 2]\n",
      "     n_pc\n",
      "[ 1  2  3  4  5  6  7  8  9 10 11 12 13 14 15 16 17 18 19 20 21 22 23 24 25\n",
      " 26 27 28]\n",
      "     covar_types\n",
      "[1 2 3 4 5 6 7 8]\n"
     ]
    }
   ],
   "source": [
    "# 13\n",
    "n_components=np.array([1, 2])\n",
    "n_pc=np.array([1, 2, 3, 4, 5, 6, 7, 8, 9, 10, 11, 12, 13, 14, 15, 16, 17, 18, 19, 20, 21, 22, 23, 24, 25, 26, 27, 28])\n",
    "covar_types=np.array([1, 2, 3, 4, 5, 6, 7, 8])\n",
    "num_models = len(n_components) * len(n_pc) * len(covar_types)\n",
    "\n",
    "fdd = FDD(name='TEPFDD',\n",
    "          training_type='spark',\n",
    "          n_components=n_components,\n",
    "          n_pc=n_pc,\n",
    "          covar_types=covar_types,\n",
    "          n_jobs=16)\n",
    "start = time()\n",
    "_, _, _, _, id, is_new = fdd.fdd(x)\n",
    "end = time()\n",
    "print '     {} models trained in {} seconds.'.format(num_models, end - start)\n",
    "print '     n_componets'\n",
    "print n_components\n",
    "print '     n_pc'\n",
    "print n_pc\n",
    "print '     covar_types'\n",
    "print covar_types"
   ]
  },
  {
   "cell_type": "code",
   "execution_count": 3,
   "metadata": {
    "collapsed": false
   },
   "outputs": [
    {
     "data": {
      "text/plain": [
       "<matplotlib.text.Text at 0x113831e90>"
      ]
     },
     "execution_count": 3,
     "metadata": {},
     "output_type": "execute_result"
    },
    {
     "data": {
      "image/png": "[encoded data removed]",
      "text/plain": [
       "<matplotlib.figure.Figure at 0x1137aaf10>"
      ]
     },
     "metadata": {},
     "output_type": "display_data"
    }
   ],
   "source": [
    "max_n_pc = np.array([2, 4, 6, 8, 10, 12, 14, 16, 18, 20, 22, 24, 26])\n",
    "time_n_pc = np.array([6.74, 8.85, 12.03, 14.34, 19.54, 21.40, 28.20, 36.29, 33.98, 35.96, 37.70, 46.45, 54.90])\n",
    "plt.plot(max_n_pc, time_n_pc)\n",
    "plt.scatter(max_n_pc, time_n_pc)\n",
    "plt.xlabel('Cobertura Maxima de Componentes Principais')\n",
    "plt.ylabel('Tempo de Treinamento (s)')\n",
    "plt.grid()\n",
    "plt.title('Tempo de Treinamento por Componentes Principais')"
   ]
  },
  {
   "cell_type": "code",
   "execution_count": null,
   "metadata": {
    "collapsed": true
   },
   "outputs": [],
   "source": []
  }
 ],
 "metadata": {
  "kernelspec": {
   "display_name": "Python 2",
   "language": "python",
   "name": "python2"
  },
  "language_info": {
   "codemirror_mode": {
    "name": "ipython",
    "version": 2
   },
   "file_extension": ".py",
   "mimetype": "text/x-python",
   "name": "python",
   "nbconvert_exporter": "python",
   "pygments_lexer": "ipython2",
   "version": "2.7.10"
  }
 },
 "nbformat": 4,
 "nbformat_minor": 0
}
