{
 "cells": [
  {
   "cell_type": "code",
   "execution_count": 2,
   "metadata": {
    "collapsed": true
   },
   "outputs": [],
   "source": [
    "# Author: Thiago Akio Nakamura\n",
    "# E-mail: akionakas@gmail.com\n",
    "\n",
    "# Import necessary classes and libraries\n",
    "%matplotlib inline\n",
    "import numpy as np\n",
    "import matplotlib.pyplot as plt\n",
    "import time\n",
    "import matplotlib as mpl\n",
    "import pickle\n",
    "from fdd import OperationMode\n",
    "from fdd import FDD\n",
    "\n",
    "import scipy.io\n",
    "from scipy import linalg\n",
    "from sklearn.datasets import make_blobs\n",
    "from sklearn.mixture import PGMM\n",
    "from scipy.stats import randint as sp_randint\n",
    "\n",
    "from sklearn.naive_bayes import GaussianNB\n",
    "from sklearn.metrics import brier_score_loss\n",
    "from sklearn.calibration import CalibratedClassifierCV\n",
    "from sklearn.cross_validation import train_test_split\n",
    "from sklearn import datasets, linear_model\n",
    "from matplotlib.colors import LogNorm\n",
    "from sklearn.grid_search import GridSearchCV\n",
    "from time import time"
   ]
  },
  {
   "cell_type": "code",
   "execution_count": 2,
   "metadata": {
    "collapsed": false
   },
   "outputs": [
    {
     "name": "stdout",
     "output_type": "stream",
     "text": [
      "Created 10000 samples wih 20 features and 5 centers.\n"
     ]
    }
   ],
   "source": [
    "# Create and display data set\n",
    "n_samples = 10000\n",
    "n_features = 20\n",
    "centers = 5\n",
    "\n",
    "x, y = make_blobs(n_samples=n_samples, \n",
    "                  n_features=n_features, \n",
    "                  centers=centers)\n",
    "print 'Created {} samples wih {} features and {} centers.'.format(x.shape[0], x.shape[1], centers)\n",
    "\n",
    "t = np.arange(x.shape[0])\n",
    "# If the data set has is bi-dimensional, scatter plot it\n",
    "if n_features == 2:\n",
    "    plt.figure(figsize=(12, 8))\n",
    "    plt.scatter(x[:, 0], x[:, 1])\n",
    "    plt.title('Data set')\n",
    "    plt.ylabel('Feature 1')\n",
    "    plt.xlabel('Feature 2')\n",
    "    plt.grid()\n",
    "    plt.show()\n",
    "    "
   ]
  },
  {
   "cell_type": "code",
   "execution_count": 3,
   "metadata": {
    "collapsed": false
   },
   "outputs": [
    {
     "name": "stdout",
     "output_type": "stream",
     "text": [
      "There is no model registered, creating a normal one.\n",
      "     32 models trained in 19.7964298725 seconds.\n",
      "     n_componets\n",
      "[1 2]\n",
      "     n_pc\n",
      "[1 2]\n",
      "     covar_types\n",
      "[1 2 3 4 5 6 7 8]\n"
     ]
    }
   ],
   "source": [
    "# 1\n",
    "n_components=np.array([1, 2])\n",
    "n_pc=np.array([1, 2])\n",
    "covar_types=np.array([1, 2, 3, 4, 5, 6, 7, 8])\n",
    "num_models = len(n_components) * len(n_pc) * len(covar_types)\n",
    "\n",
    "fdd = FDD(name='TEPFDD',\n",
    "          training_type='spark',\n",
    "          n_components=n_components,\n",
    "          n_pc=n_pc,\n",
    "          covar_types=covar_types,\n",
    "          n_jobs=64)\n",
    "start = time()\n",
    "_, _, _, _, id, is_new = fdd.fdd(x)\n",
    "end = time()\n",
    "print '     {} models trained in {} seconds.'.format(num_models, end - start)\n",
    "print '     n_componets'\n",
    "print n_components\n",
    "print '     n_pc'\n",
    "print n_pc\n",
    "print '     covar_types'\n",
    "print covar_types"
   ]
  },
  {
   "cell_type": "code",
   "execution_count": 4,
   "metadata": {
    "collapsed": false
   },
   "outputs": [
    {
     "name": "stdout",
     "output_type": "stream",
     "text": [
      "There is no model registered, creating a normal one.\n",
      "     64 models trained in 20.7765920162 seconds.\n",
      "     n_componets\n",
      "[1 2 3 4]\n",
      "     n_pc\n",
      "[1 2]\n",
      "     covar_types\n",
      "[1 2 3 4 5 6 7 8]\n"
     ]
    }
   ],
   "source": [
    "# 2\n",
    "n_components=np.array([1, 2, 3, 4])\n",
    "n_pc=np.array([1, 2])\n",
    "covar_types=np.array([1, 2, 3, 4, 5, 6, 7, 8])\n",
    "num_models = len(n_components) * len(n_pc) * len(covar_types)\n",
    "\n",
    "fdd = FDD(name='TEPFDD',\n",
    "          training_type='spark',\n",
    "          n_components=n_components,\n",
    "          n_pc=n_pc,\n",
    "          covar_types=covar_types,\n",
    "          n_jobs=64)\n",
    "start = time()\n",
    "_, _, _, _, id, is_new = fdd.fdd(x)\n",
    "end = time()\n",
    "print '     {} models trained in {} seconds.'.format(num_models, end - start)\n",
    "print '     n_componets'\n",
    "print n_components\n",
    "print '     n_pc'\n",
    "print n_pc\n",
    "print '     covar_types'\n",
    "print covar_types"
   ]
  },
  {
   "cell_type": "code",
   "execution_count": 5,
   "metadata": {
    "collapsed": false
   },
   "outputs": [
    {
     "name": "stdout",
     "output_type": "stream",
     "text": [
      "There is no model registered, creating a normal one.\n",
      "     96 models trained in 49.0460219383 seconds.\n",
      "     n_componets\n",
      "[1 2 3 4 5 6]\n",
      "     n_pc\n",
      "[1 2]\n",
      "     covar_types\n",
      "[1 2 3 4 5 6 7 8]\n"
     ]
    }
   ],
   "source": [
    "# 3\n",
    "n_components=np.array([1, 2, 3, 4, 5, 6])\n",
    "n_pc=np.array([1, 2])\n",
    "covar_types=np.array([1, 2, 3, 4, 5, 6, 7, 8])\n",
    "num_models = len(n_components) * len(n_pc) * len(covar_types)\n",
    "\n",
    "fdd = FDD(name='TEPFDD',\n",
    "          training_type='spark',\n",
    "          n_components=n_components,\n",
    "          n_pc=n_pc,\n",
    "          covar_types=covar_types,\n",
    "          n_jobs=64)\n",
    "start = time()\n",
    "_, _, _, _, id, is_new = fdd.fdd(x)\n",
    "end = time()\n",
    "print '     {} models trained in {} seconds.'.format(num_models, end - start)\n",
    "print '     n_componets'\n",
    "print n_components\n",
    "print '     n_pc'\n",
    "print n_pc\n",
    "print '     covar_types'\n",
    "print covar_types"
   ]
  },
  {
   "cell_type": "code",
   "execution_count": 6,
   "metadata": {
    "collapsed": false
   },
   "outputs": [
    {
     "name": "stdout",
     "output_type": "stream",
     "text": [
      "There is no model registered, creating a normal one.\n",
      "     128 models trained in 174.063205004 seconds.\n",
      "     n_componets\n",
      "[1 2 3 4 5 6 7 8]\n",
      "     n_pc\n",
      "[1 2]\n",
      "     covar_types\n",
      "[1 2 3 4 5 6 7 8]\n"
     ]
    }
   ],
   "source": [
    "# 4\n",
    "n_components=np.array([1, 2, 3, 4, 5, 6, 7, 8])\n",
    "n_pc=np.array([1, 2])\n",
    "covar_types=np.array([1, 2, 3, 4, 5, 6, 7, 8])\n",
    "num_models = len(n_components) * len(n_pc) * len(covar_types)\n",
    "\n",
    "fdd = FDD(name='TEPFDD',\n",
    "          training_type='spark',\n",
    "          n_components=n_components,\n",
    "          n_pc=n_pc,\n",
    "          covar_types=covar_types,\n",
    "          n_jobs=64)\n",
    "start = time()\n",
    "_, _, _, _, id, is_new = fdd.fdd(x)\n",
    "end = time()\n",
    "print '     {} models trained in {} seconds.'.format(num_models, end - start)\n",
    "print '     n_componets'\n",
    "print n_components\n",
    "print '     n_pc'\n",
    "print n_pc\n",
    "print '     covar_types'\n",
    "print covar_types"
   ]
  },
  {
   "cell_type": "code",
   "execution_count": 7,
   "metadata": {
    "collapsed": false
   },
   "outputs": [
    {
     "name": "stdout",
     "output_type": "stream",
     "text": [
      "There is no model registered, creating a normal one.\n",
      "     160 models trained in 432.15693593 seconds.\n",
      "     n_componets\n",
      "[ 1  2  3  4  5  6  7  8  9 10]\n",
      "     n_pc\n",
      "[1 2]\n",
      "     covar_types\n",
      "[1 2 3 4 5 6 7 8]\n"
     ]
    }
   ],
   "source": [
    "# 5\n",
    "n_components=np.array([1, 2, 3, 4, 5, 6, 7, 8, 9, 10])\n",
    "n_pc=np.array([1, 2])\n",
    "covar_types=np.array([1, 2, 3, 4, 5, 6, 7, 8])\n",
    "num_models = len(n_components) * len(n_pc) * len(covar_types)\n",
    "\n",
    "fdd = FDD(name='TEPFDD',\n",
    "          training_type='spark',\n",
    "          n_components=n_components,\n",
    "          n_pc=n_pc,\n",
    "          covar_types=covar_types,\n",
    "          n_jobs=64)\n",
    "start = time()\n",
    "_, _, _, _, id, is_new = fdd.fdd(x)\n",
    "end = time()\n",
    "print '     {} models trained in {} seconds.'.format(num_models, end - start)\n",
    "print '     n_componets'\n",
    "print n_components\n",
    "print '     n_pc'\n",
    "print n_pc\n",
    "print '     covar_types'\n",
    "print covar_types"
   ]
  },
  {
   "cell_type": "code",
   "execution_count": 8,
   "metadata": {
    "collapsed": false
   },
   "outputs": [
    {
     "name": "stdout",
     "output_type": "stream",
     "text": [
      "There is no model registered, creating a normal one.\n",
      "     176 models trained in 747.86550498 seconds.\n",
      "     n_componets\n",
      "[ 1  2  3  4  6  7  8  9 10 11 12]\n",
      "     n_pc\n",
      "[1 2]\n",
      "     covar_types\n",
      "[1 2 3 4 5 6 7 8]\n"
     ]
    }
   ],
   "source": [
    "# 6\n",
    "n_components=np.array([1, 2, 3, 4, 6, 7, 8, 9, 10, 11, 12])\n",
    "n_pc=np.array([1, 2])\n",
    "covar_types=np.array([1, 2, 3, 4, 5, 6, 7, 8])\n",
    "num_models = len(n_components) * len(n_pc) * len(covar_types)\n",
    "\n",
    "fdd = FDD(name='TEPFDD',\n",
    "          training_type='spark',\n",
    "          n_components=n_components,\n",
    "          n_pc=n_pc,\n",
    "          covar_types=covar_types,\n",
    "          n_jobs=64)\n",
    "start = time()\n",
    "_, _, _, _, id, is_new = fdd.fdd(x)\n",
    "end = time()\n",
    "print '     {} models trained in {} seconds.'.format(num_models, end - start)\n",
    "print '     n_componets'\n",
    "print n_components\n",
    "print '     n_pc'\n",
    "print n_pc\n",
    "print '     covar_types'\n",
    "print covar_types"
   ]
  },
  {
   "cell_type": "code",
   "execution_count": 9,
   "metadata": {
    "collapsed": false
   },
   "outputs": [
    {
     "name": "stdout",
     "output_type": "stream",
     "text": [
      "There is no model registered, creating a normal one.\n",
      "     224 models trained in 1162.19933605 seconds.\n",
      "     n_componets\n",
      "[ 1  2  3  4  5  6  7  8  9 10 11 12 13 14]\n",
      "     n_pc\n",
      "[1 2]\n",
      "     covar_types\n",
      "[1 2 3 4 5 6 7 8]\n"
     ]
    }
   ],
   "source": [
    "# 7\n",
    "n_components=np.array([1, 2, 3, 4, 5, 6, 7, 8, 9, 10, 11, 12, 13, 14])\n",
    "n_pc=np.array([1, 2])\n",
    "covar_types=np.array([1, 2, 3, 4, 5, 6, 7, 8])\n",
    "num_models = len(n_components) * len(n_pc) * len(covar_types)\n",
    "\n",
    "fdd = FDD(name='TEPFDD',\n",
    "          training_type='spark',\n",
    "          n_components=n_components,\n",
    "          n_pc=n_pc,\n",
    "          covar_types=covar_types,\n",
    "          n_jobs=64)\n",
    "start = time()\n",
    "_, _, _, _, id, is_new = fdd.fdd(x)\n",
    "end = time()\n",
    "print '     {} models trained in {} seconds.'.format(num_models, end - start)\n",
    "print '     n_componets'\n",
    "print n_components\n",
    "print '     n_pc'\n",
    "print n_pc\n",
    "print '     covar_types'\n",
    "print covar_types"
   ]
  },
  {
   "cell_type": "code",
   "execution_count": 10,
   "metadata": {
    "collapsed": false
   },
   "outputs": [
    {
     "name": "stdout",
     "output_type": "stream",
     "text": [
      "There is no model registered, creating a normal one.\n",
      "     256 models trained in 1618.02295303 seconds.\n",
      "     n_componets\n",
      "[ 1  2  3  4  5  6  7  8  9 10 11 12 13 14 15 16]\n",
      "     n_pc\n",
      "[1 2]\n",
      "     covar_types\n",
      "[1 2 3 4 5 6 7 8]\n"
     ]
    }
   ],
   "source": [
    "# 8\n",
    "n_components=np.array([1, 2, 3, 4, 5, 6, 7, 8, 9, 10, 11, 12, 13, 14, 15, 16])\n",
    "n_pc=np.array([1, 2])\n",
    "covar_types=np.array([1, 2, 3, 4, 5, 6, 7, 8])\n",
    "num_models = len(n_components) * len(n_pc) * len(covar_types)\n",
    "\n",
    "fdd = FDD(name='TEPFDD',\n",
    "          training_type='spark',\n",
    "          n_components=n_components,\n",
    "          n_pc=n_pc,\n",
    "          covar_types=covar_types,\n",
    "          n_jobs=64)\n",
    "start = time()\n",
    "_, _, _, _, id, is_new = fdd.fdd(x)\n",
    "end = time()\n",
    "print '     {} models trained in {} seconds.'.format(num_models, end - start)\n",
    "print '     n_componets'\n",
    "print n_components\n",
    "print '     n_pc'\n",
    "print n_pc\n",
    "print '     covar_types'\n",
    "print covar_types"
   ]
  },
  {
   "cell_type": "code",
   "execution_count": 4,
   "metadata": {
    "collapsed": false
   },
   "outputs": [
    {
     "data": {
      "text/plain": [
       "<matplotlib.text.Text at 0x10e2a9b10>"
      ]
     },
     "execution_count": 4,
     "metadata": {},
     "output_type": "execute_result"
    },
    {
     "data": {
      "image/png": "[encoded data removed]",
      "text/plain": [
       "<matplotlib.figure.Figure at 0x10e18f3d0>"
      ]
     },
     "metadata": {},
     "output_type": "display_data"
    }
   ],
   "source": [
    "max_n_components = np.array([[2, 4, 6, 8, 10, 12, 14, 16]]).T\n",
    "time_n_components = np.array([19.79, 20.78, 49.05, 174.06, 432.15, 747.86, 1162.20, 1618.02])\n",
    "\n",
    "\n",
    "# Create linear regression object\n",
    "regr = linear_model.LinearRegression()\n",
    "# Train the model using the training sets\n",
    "regr.fit(max_n_components, np.log(time_n_components))\n",
    "         \n",
    "plt.plot(max_n_components, np.exp(regr.predict(max_n_components)), color='red')\n",
    "plt.scatter(max_n_components, time_n_components)\n",
    "plt.xlabel('Number of Mixture Components Coverage (k)')\n",
    "plt.ylabel('Training Time (s)')\n",
    "plt.grid()\n",
    "plt.title('Training Time by Number Mixture Components Coverage')"
   ]
  },
  {
   "cell_type": "code",
   "execution_count": null,
   "metadata": {
    "collapsed": true
   },
   "outputs": [],
   "source": []
  }
 ],
 "metadata": {
  "kernelspec": {
   "display_name": "Python 2",
   "language": "python",
   "name": "python2"
  },
  "language_info": {
   "codemirror_mode": {
    "name": "ipython",
    "version": 2
   },
   "file_extension": ".py",
   "mimetype": "text/x-python",
   "name": "python",
   "nbconvert_exporter": "python",
   "pygments_lexer": "ipython2",
   "version": "2.7.10"
  }
 },
 "nbformat": 4,
 "nbformat_minor": 0
}
