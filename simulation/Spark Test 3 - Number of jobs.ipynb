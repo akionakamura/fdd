{
 "cells": [
  {
   "cell_type": "code",
   "execution_count": 1,
   "metadata": {
    "collapsed": true
   },
   "outputs": [],
   "source": [
    "# Author: Thiago Akio Nakamura\n",
    "# E-mail: akionakas@gmail.com\n",
    "\n",
    "# Import necessary classes and libraries\n",
    "%matplotlib inline\n",
    "import numpy as np\n",
    "import matplotlib.pyplot as plt\n",
    "from fdd import FDD\n",
    "from sklearn.datasets import make_blobs\n",
    "from time import time"
   ]
  },
  {
   "cell_type": "code",
   "execution_count": 2,
   "metadata": {
    "collapsed": false
   },
   "outputs": [
    {
     "name": "stdout",
     "output_type": "stream",
     "text": [
      "Created 1000 samples wih 10 features and 3 centers.\n"
     ]
    }
   ],
   "source": [
    "# Create and display data set\n",
    "n_samples = 1000\n",
    "n_features = 10\n",
    "centers = 3\n",
    "\n",
    "x, y = make_blobs(n_samples=n_samples, \n",
    "                  n_features=n_features, \n",
    "                  centers=centers)\n",
    "print 'Created {} samples wih {} features and {} centers.'.format(x.shape[0], x.shape[1], centers)"
   ]
  },
  {
   "cell_type": "code",
   "execution_count": 3,
   "metadata": {
    "collapsed": false
   },
   "outputs": [
    {
     "name": "stdout",
     "output_type": "stream",
     "text": [
      "There is no model registered, creating a normal one.\n",
      "     512 models trained in 161.222440004 seconds with 1 jobs.\n",
      "     n_componets\n",
      "[1 2 3 4 5 6 7 8]\n",
      "     n_pc\n",
      "[1 2 3 4 5 6 7 8]\n",
      "     covar_types\n",
      "[1 2 3 4 5 6 7 8]\n",
      "There is no model registered, creating a normal one.\n",
      "     512 models trained in 104.314220905 seconds with 2 jobs.\n",
      "     n_componets\n",
      "[1 2 3 4 5 6 7 8]\n",
      "     n_pc\n",
      "[1 2 3 4 5 6 7 8]\n",
      "     covar_types\n",
      "[1 2 3 4 5 6 7 8]\n",
      "There is no model registered, creating a normal one.\n",
      "     512 models trained in 90.8359849453 seconds with 4 jobs.\n",
      "     n_componets\n",
      "[1 2 3 4 5 6 7 8]\n",
      "     n_pc\n",
      "[1 2 3 4 5 6 7 8]\n",
      "     covar_types\n",
      "[1 2 3 4 5 6 7 8]\n",
      "There is no model registered, creating a normal one.\n",
      "     512 models trained in 95.2325119972 seconds with 8 jobs.\n",
      "     n_componets\n",
      "[1 2 3 4 5 6 7 8]\n",
      "     n_pc\n",
      "[1 2 3 4 5 6 7 8]\n",
      "     covar_types\n",
      "[1 2 3 4 5 6 7 8]\n",
      "There is no model registered, creating a normal one.\n",
      "     512 models trained in 94.7911109924 seconds with 16 jobs.\n",
      "     n_componets\n",
      "[1 2 3 4 5 6 7 8]\n",
      "     n_pc\n",
      "[1 2 3 4 5 6 7 8]\n",
      "     covar_types\n",
      "[1 2 3 4 5 6 7 8]\n",
      "There is no model registered, creating a normal one.\n",
      "     512 models trained in 93.9999821186 seconds with 32 jobs.\n",
      "     n_componets\n",
      "[1 2 3 4 5 6 7 8]\n",
      "     n_pc\n",
      "[1 2 3 4 5 6 7 8]\n",
      "     covar_types\n",
      "[1 2 3 4 5 6 7 8]\n",
      "There is no model registered, creating a normal one.\n",
      "     512 models trained in 97.6033308506 seconds with 64 jobs.\n",
      "     n_componets\n",
      "[1 2 3 4 5 6 7 8]\n",
      "     n_pc\n",
      "[1 2 3 4 5 6 7 8]\n",
      "     covar_types\n",
      "[1 2 3 4 5 6 7 8]\n"
     ]
    }
   ],
   "source": [
    "# 1\n",
    "n_components=np.array([1, 2, 3, 4, 5, 6, 7, 8])\n",
    "n_pc=np.array([1, 2, 3, 4, 5, 6, 7, 8])\n",
    "covar_types=np.array([1, 2, 3, 4, 5, 6, 7, 8])\n",
    "num_models = len(n_components) * len(n_pc) * len(covar_types)\n",
    "\n",
    "n_jobs = np.array([1, 2, 4, 8, 16, 32, 64])\n",
    "time_n_job = np.empty(0)\n",
    "\n",
    "for n_job in n_jobs:\n",
    "    fdd = FDD(name='TEPFDD',\n",
    "              training_type='spark',\n",
    "              n_components=n_components,\n",
    "              n_pc=n_pc,\n",
    "              covar_types=covar_types,\n",
    "              n_jobs=n_job)\n",
    "    start = time()\n",
    "    _, _, _, _, id, is_new = fdd.fdd(x)\n",
    "    end = time()\n",
    "    train_time = np.array([end - start])\n",
    "    time_n_job = np.concatenate((time_n_job, train_time), axis=0)\n",
    "    print '     {} models trained in {} seconds with {} jobs.'.format(num_models, end - start, n_job)\n",
    "    print '     n_componets'\n",
    "    print n_components\n",
    "    print '     n_pc'\n",
    "    print n_pc\n",
    "    print '     covar_types'\n",
    "    print covar_types"
   ]
  },
  {
   "cell_type": "code",
   "execution_count": 4,
   "metadata": {
    "collapsed": false
   },
   "outputs": [
    {
     "data": {
      "text/plain": [
       "<matplotlib.text.Text at 0x111b6e8d0>"
      ]
     },
     "execution_count": 4,
     "metadata": {},
     "output_type": "execute_result"
    },
    {
     "data": {
      "image/png": "[encoded data removed]",
      "text/plain": [
       "<matplotlib.figure.Figure at 0x111a1f2d0>"
      ]
     },
     "metadata": {},
     "output_type": "display_data"
    }
   ],
   "source": [
    "plt.plot(n_jobs, time_n_job)\n",
    "plt.scatter(n_jobs, time_n_job)\n",
    "plt.xlabel('Numero de Tarefas do Spark')\n",
    "plt.ylabel('Tempo de Treinamento (s)')\n",
    "plt.grid()\n",
    "plt.title('Tempo de Treinamento por Numero de Tarefas')"
   ]
  },
  {
   "cell_type": "code",
   "execution_count": null,
   "metadata": {
    "collapsed": true
   },
   "outputs": [],
   "source": []
  }
 ],
 "metadata": {
  "kernelspec": {
   "display_name": "Python 2",
   "language": "python",
   "name": "python2"
  },
  "language_info": {
   "codemirror_mode": {
    "name": "ipython",
    "version": 2
   },
   "file_extension": ".py",
   "mimetype": "text/x-python",
   "name": "python",
   "nbconvert_exporter": "python",
   "pygments_lexer": "ipython2",
   "version": "2.7.10"
  }
 },
 "nbformat": 4,
 "nbformat_minor": 0
}
