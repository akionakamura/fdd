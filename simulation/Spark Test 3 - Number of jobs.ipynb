{
 "cells": [
  {
   "cell_type": "code",
   "execution_count": 1,
   "metadata": {
    "collapsed": true
   },
   "outputs": [],
   "source": [
    "# Author: Thiago Akio Nakamura\n",
    "# E-mail: akionakas@gmail.com\n",
    "\n",
    "# Import necessary classes and libraries\n",
    "%matplotlib inline\n",
    "import numpy as np\n",
    "import matplotlib.pyplot as plt\n",
    "from fdd import FDD\n",
    "from sklearn.datasets import make_blobs\n",
    "from time import time\n",
    "\n",
    "# Author: Thiago Akio Nakamura\n",
    "# E-mail: akionakas@gmail.com\n",
    "\n",
    "# Import necessary classes and libraries\n",
    "%matplotlib inline\n",
    "import numpy as np\n",
    "import matplotlib.pyplot as plt\n",
    "import time\n",
    "import matplotlib as mpl\n",
    "import pickle\n",
    "from fdd import OperationMode\n",
    "from fdd import FDD\n",
    "\n",
    "import scipy.io\n",
    "from scipy import linalg\n",
    "from sklearn.datasets import make_blobs\n",
    "from sklearn.mixture import PGMM\n",
    "from scipy.stats import randint as sp_randint\n",
    "\n",
    "from sklearn.naive_bayes import GaussianNB\n",
    "from sklearn.metrics import brier_score_loss\n",
    "from sklearn.calibration import CalibratedClassifierCV\n",
    "from sklearn import datasets, linear_model\n",
    "from sklearn.cross_validation import train_test_split\n",
    "from matplotlib.colors import LogNorm\n",
    "from sklearn.grid_search import GridSearchCV\n",
    "from time import time"
   ]
  },
  {
   "cell_type": "code",
   "execution_count": 4,
   "metadata": {
    "collapsed": false
   },
   "outputs": [
    {
     "name": "stdout",
     "output_type": "stream",
     "text": [
      "Created 500 samples wih 10 features and 3 centers.\n"
     ]
    }
   ],
   "source": [
    "# Create and display data set\n",
    "n_samples = 500\n",
    "n_features = 10\n",
    "centers = 3\n",
    "\n",
    "x, y = make_blobs(n_samples=n_samples, \n",
    "                  n_features=n_features, \n",
    "                  centers=centers)\n",
    "print 'Created {} samples wih {} features and {} centers.'.format(x.shape[0], x.shape[1], centers)"
   ]
  },
  {
   "cell_type": "code",
   "execution_count": 3,
   "metadata": {
    "collapsed": false
   },
   "outputs": [
    {
     "name": "stdout",
     "output_type": "stream",
     "text": [
      "There is no model registered, creating a normal one.\n",
      "     64 models trained in 68.7982530594 seconds with 1 jobs.\n",
      "     n_componets\n",
      "[6 6 6 6]\n",
      "     n_pc\n",
      "[3 3 3 3]\n",
      "     covar_types\n",
      "[7 7 7 7]\n",
      "There is no model registered, creating a normal one.\n",
      "     64 models trained in 35.1481890678 seconds with 2 jobs.\n",
      "     n_componets\n",
      "[6 6 6 6]\n",
      "     n_pc\n",
      "[3 3 3 3]\n",
      "     covar_types\n",
      "[7 7 7 7]\n",
      "There is no model registered, creating a normal one.\n",
      "     64 models trained in 27.4418849945 seconds with 3 jobs.\n",
      "     n_componets\n",
      "[6 6 6 6]\n",
      "     n_pc\n",
      "[3 3 3 3]\n",
      "     covar_types\n",
      "[7 7 7 7]\n",
      "There is no model registered, creating a normal one.\n",
      "     64 models trained in 28.18572402 seconds with 4 jobs.\n",
      "     n_componets\n",
      "[6 6 6 6]\n",
      "     n_pc\n",
      "[3 3 3 3]\n",
      "     covar_types\n",
      "[7 7 7 7]\n",
      "There is no model registered, creating a normal one.\n",
      "     64 models trained in 27.7679588795 seconds with 5 jobs.\n",
      "     n_componets\n",
      "[6 6 6 6]\n",
      "     n_pc\n",
      "[3 3 3 3]\n",
      "     covar_types\n",
      "[7 7 7 7]\n",
      "There is no model registered, creating a normal one.\n",
      "     64 models trained in 30.2436227798 seconds with 6 jobs.\n",
      "     n_componets\n",
      "[6 6 6 6]\n",
      "     n_pc\n",
      "[3 3 3 3]\n",
      "     covar_types\n",
      "[7 7 7 7]\n",
      "There is no model registered, creating a normal one.\n",
      "     64 models trained in 27.0999560356 seconds with 7 jobs.\n",
      "     n_componets\n",
      "[6 6 6 6]\n",
      "     n_pc\n",
      "[3 3 3 3]\n",
      "     covar_types\n",
      "[7 7 7 7]\n",
      "There is no model registered, creating a normal one.\n",
      "     64 models trained in 27.2208068371 seconds with 8 jobs.\n",
      "     n_componets\n",
      "[6 6 6 6]\n",
      "     n_pc\n",
      "[3 3 3 3]\n",
      "     covar_types\n",
      "[7 7 7 7]\n",
      "There is no model registered, creating a normal one.\n",
      "     64 models trained in 27.9437580109 seconds with 9 jobs.\n",
      "     n_componets\n",
      "[6 6 6 6]\n",
      "     n_pc\n",
      "[3 3 3 3]\n",
      "     covar_types\n",
      "[7 7 7 7]\n",
      "There is no model registered, creating a normal one.\n",
      "     64 models trained in 30.4830670357 seconds with 10 jobs.\n",
      "     n_componets\n",
      "[6 6 6 6]\n",
      "     n_pc\n",
      "[3 3 3 3]\n",
      "     covar_types\n",
      "[7 7 7 7]\n",
      "There is no model registered, creating a normal one.\n",
      "     64 models trained in 27.2685141563 seconds with 11 jobs.\n",
      "     n_componets\n",
      "[6 6 6 6]\n",
      "     n_pc\n",
      "[3 3 3 3]\n",
      "     covar_types\n",
      "[7 7 7 7]\n",
      "There is no model registered, creating a normal one.\n",
      "     64 models trained in 27.8740410805 seconds with 12 jobs.\n",
      "     n_componets\n",
      "[6 6 6 6]\n",
      "     n_pc\n",
      "[3 3 3 3]\n",
      "     covar_types\n",
      "[7 7 7 7]\n",
      "There is no model registered, creating a normal one.\n",
      "     64 models trained in 28.2254869938 seconds with 13 jobs.\n",
      "     n_componets\n",
      "[6 6 6 6]\n",
      "     n_pc\n",
      "[3 3 3 3]\n",
      "     covar_types\n",
      "[7 7 7 7]\n",
      "There is no model registered, creating a normal one.\n",
      "     64 models trained in 28.9973359108 seconds with 14 jobs.\n",
      "     n_componets\n",
      "[6 6 6 6]\n",
      "     n_pc\n",
      "[3 3 3 3]\n",
      "     covar_types\n",
      "[7 7 7 7]\n",
      "There is no model registered, creating a normal one.\n",
      "     64 models trained in 39.4134020805 seconds with 15 jobs.\n",
      "     n_componets\n",
      "[6 6 6 6]\n",
      "     n_pc\n",
      "[3 3 3 3]\n",
      "     covar_types\n",
      "[7 7 7 7]\n",
      "There is no model registered, creating a normal one.\n",
      "     64 models trained in 31.0597188473 seconds with 16 jobs.\n",
      "     n_componets\n",
      "[6 6 6 6]\n",
      "     n_pc\n",
      "[3 3 3 3]\n",
      "     covar_types\n",
      "[7 7 7 7]\n"
     ]
    }
   ],
   "source": [
    "# 1\n",
    "n_components=np.array([6, 6, 6, 6])\n",
    "n_pc=np.array([3, 3, 3, 3])\n",
    "covar_types=np.array([7, 7, 7, 7])\n",
    "num_models = len(n_components) * len(n_pc) * len(covar_types)\n",
    "\n",
    "n_jobs = np.array([1, 2, 3, 4, 5, 6, 7, 8, 9, 10, 11, 12, 13, 14, 15, 16])\n",
    "time_n_job = np.empty(0)\n",
    "\n",
    "for n_job in n_jobs:\n",
    "    fdd = FDD(name='TEPFDD',\n",
    "              training_type='spark',\n",
    "              n_components=n_components,\n",
    "              n_pc=n_pc,\n",
    "              covar_types=covar_types,\n",
    "              n_jobs=n_job)\n",
    "    start = time()\n",
    "    _, _, _, _, id, is_new = fdd.fdd(x)\n",
    "    end = time()\n",
    "    train_time = np.array([end - start])\n",
    "    time_n_job = np.concatenate((time_n_job, train_time), axis=0)\n",
    "    print '     {} models trained in {} seconds with {} jobs.'.format(num_models, end - start, n_job)\n",
    "    print '     n_componets'\n",
    "    print n_components\n",
    "    print '     n_pc'\n",
    "    print n_pc\n",
    "    print '     covar_types'\n",
    "    print covar_types"
   ]
  },
  {
   "cell_type": "code",
   "execution_count": 4,
   "metadata": {
    "collapsed": false
   },
   "outputs": [
    {
     "data": {
      "text/plain": [
       "<matplotlib.text.Text at 0x10f6fec50>"
      ]
     },
     "execution_count": 4,
     "metadata": {},
     "output_type": "execute_result"
    },
    {
     "data": {
      "image/png": "[encoded data removed]",
      "text/plain": [
       "<matplotlib.figure.Figure at 0x10e917e10>"
      ]
     },
     "metadata": {},
     "output_type": "display_data"
    }
   ],
   "source": [
    "plt.plot(n_jobs, time_n_job)\n",
    "plt.scatter(n_jobs, time_n_job)\n",
    "plt.xlabel('Numero de Tarefas do Spark')\n",
    "plt.ylabel('Tempo de Treinamento (s)')\n",
    "plt.grid()\n",
    "plt.title('Tempo de Treinamento por Numero de Tarefas')"
   ]
  },
  {
   "cell_type": "code",
   "execution_count": 2,
   "metadata": {
    "collapsed": false
   },
   "outputs": [
    {
     "data": {
      "text/plain": [
       "<matplotlib.text.Text at 0x10f7d1710>"
      ]
     },
     "execution_count": 2,
     "metadata": {},
     "output_type": "execute_result"
    },
    {
     "data": {
      "image/png": "[encoded data removed]",
      "text/plain": [
       "<matplotlib.figure.Figure at 0x10ca99310>"
      ]
     },
     "metadata": {},
     "output_type": "display_data"
    }
   ],
   "source": [
    "n_jobs2 = np.array([[1, 2, 3, 4, 5, 6, 7, 8, 9, 10, 11, 12, 13, 14, 15, 16, 17, 18, 19, 20, 21, 22, 23, 24, 25, 26]]).T\n",
    "time_n_job2 = np.array([680, 580, 590, 585, 560, 552, 553, 550, 535, 540, 528, 534, 529, 528, 523, 522, 526, 521, 519, 520, 519, 510, 545, 548, 540, 547])\n",
    "\n",
    "# Create linear regression object\n",
    "regr = linear_model.LinearRegression()\n",
    "# Train the model using the training sets\n",
    "regr.fit(n_jobs2[1:(len(n_jobs2)-3)], time_n_job2[1:(len(n_jobs2)-3)])\n",
    "\n",
    "plt.plot(n_jobs2, regr.predict(n_jobs2), color='red')\n",
    "\n",
    "plt.scatter(n_jobs2, time_n_job2)\n",
    "plt.xlabel('Numero de Tarefas do Spark')\n",
    "plt.ylabel('Tempo de Treinamento (s)')\n",
    "plt.grid()\n",
    "plt.title('Tempo de Treinamento por Numero de Tarefas')"
   ]
  },
  {
   "cell_type": "code",
   "execution_count": null,
   "metadata": {
    "collapsed": true
   },
   "outputs": [],
   "source": []
  }
 ],
 "metadata": {
  "kernelspec": {
   "display_name": "Python 2",
   "language": "python",
   "name": "python2"
  },
  "language_info": {
   "codemirror_mode": {
    "name": "ipython",
    "version": 2
   },
   "file_extension": ".py",
   "mimetype": "text/x-python",
   "name": "python",
   "nbconvert_exporter": "python",
   "pygments_lexer": "ipython2",
   "version": "2.7.10"
  }
 },
 "nbformat": 4,
 "nbformat_minor": 0
}
